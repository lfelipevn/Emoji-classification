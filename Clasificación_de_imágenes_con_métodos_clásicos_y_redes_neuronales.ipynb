{
 "cells": [
  {
   "cell_type": "markdown",
   "metadata": {
    "id": "8_p9owBOCJgI"
   },
   "source": [
    "# Clasificación de imágenes con métodos clásicos y redes neuronales"
   ]
  },
  {
   "cell_type": "markdown",
   "metadata": {
    "id": "o7b1lG9ROSCj"
   },
   "source": [
    "*Por Ernesto Ignacio Borbón Martínez, José de Jesús Gutiérrez Aldrete, Luis Felipe Villaseñor Navarrete y Gerardo Villegas Contreras*"
   ]
  },
  {
   "cell_type": "markdown",
   "metadata": {
    "id": "zEvwQK4QQBjX"
   },
   "source": [
    "Si has dado ya tus primeros pasos en el mundo del aprendizaje automático, tal vez ya pudiste clasificar especies de flores dadas las características de sus pétalos y sépalos. Todo es risa y diversión cuando tienes un conjunto de datos compuesto de observaciones con sus atributos, pero, ¿qué pasa cuando tenemos imágenes? ¿Qué procede para clasificar? \n",
    "\n",
    "El objetivo de este trabajo es evaluar el rendimiento de distintos modelos de clasificación tradicionales (lineales y no lineales), junto con el uso de redes neuronales para aprendizaje supervisado, para comparar los dos paradigmas usando imágenes como entrada. Para esto se utilizarán 3 bases de datos distintas, donde la primera son una serie de imágenes de artículos de ropa, la segunda son distintos emojis dibujados a mano y, la tercera es una descripción de terreno de un área superficial del planeta Marte.\n",
    "\n",
    "Los modelos recibirán dos tipos de entrada. Primero se entrenarán con cada pixel de las imágenes como características, y después se utilizarán **descriptores**. Estos extraerán características de las imágenes. Para evaluar a los modelos se aplicará el método de validación cruzada en todas las pruebas, excepto para las que involucran la base de datos de ropa, puesto que ésta ya es bastante grande. En los modelos de clasificación se revisará la exactitud y la sensibilidad por clase, mientras que en los modelos de regresión se usará el error cuadrado medio.\n"
   ]
  },
  {
   "cell_type": "markdown",
   "metadata": {
    "id": "fU80LpTvNSED"
   },
   "source": [
    "## Las bases de datos"
   ]
  },
  {
   "cell_type": "markdown",
   "metadata": {
    "id": "vp6F1bb4NT4r"
   },
   "source": [
    "Para comparar los modelos clásicos de aprendizaje de máquina con las redes neuronales, se utilizaron 3 conjuntos de datos. \n",
    "\n",
    "El primero es el conjunto de datos Fashion-MNIST, el cual consiste de 70,000 imágenes (60,000 de entrenamiento y 10,000 de prueba) de 10 diferentes prendas de vestir en escala de grises con un tamaño de 28x28, acompañado de sus etiquetas.\n",
    "\n",
    "El segundo conjunto de datos consiste en 2470 imágenes binarias de emojis dibujados a mano con un tamaño de 32x32. Los diferentes emojis en la base de datos son caritas enojadas (clase 1) felices (2), tristes (4), sorprendidas (5) y el emoji de popó (clase 3). \n",
    "\n",
    "El tercer y último conjunto de datos consta de 2000 secciones de imágenes de mapas de elevación de la superficie de Marte tomadas del sitio de HiRISE. Cada registro en el conjunto de datos contiene cuatro imágenes de un área de 200m x 200m acompañados de un indicador de qué tan navegable es esa zona en una escala del 1 al 4 (1: Muy poco navegable – 4: Muy navegable). La primera imagen contiene las alturas, la segunda es un gradiente, la tercera indica las elevaciones en el área y la cuarta las depresiones.\n",
    "\n",
    "Puedes encontrar las bases de datos emojis y navegability en https://github.com/ShoyChoy/clasificacion-imagenes.git.\n"
   ]
  },
  {
   "cell_type": "markdown",
   "metadata": {
    "id": "x0J0bqSlQLpf"
   },
   "source": [
    "## Los descriptores "
   ]
  },
  {
   "cell_type": "markdown",
   "metadata": {
    "id": "f12f-_OINe4T"
   },
   "source": [
    "Tanto para los modelos clásicos como para las redes neuronales, los modelos se entrenarán de dos maneras distintas. La primera es usando cada uno de los pixeles como la entrada de los modelos y la segunda es usando descriptores que resuman la información que incluye cada imagen.\n",
    "\n",
    "Los descriptores utilizados son los siguientes:\n",
    "* Máximo: Devuelve el valor del pixel con el valor más alto.\n",
    "* Promedio: Devuelve el promedio de los valores de los pixeles. \n",
    "* Oblicuidad: Medida que indica que tan asimétrico es el histograma de los valores de los pixeles.\n",
    "* Curtosis: Medida que indica que tan alto es el pico al hacer un histograma con los valores de los píxeles.\n",
    "* Varianza:  Medida que indica que tan dispersos están los valores de los pixeles.\n",
    "*\tDisimilaridad: Medida que se saca de la GLCM (gray-level co-occurrence matrix) que similar a la medida “Contraste”, es alta cuando la región tiene un contraste alto\n",
    "*\tCorrelación: Medida que se saca de la GLCM (gray-level co-occurrence matrix) e indica si tiene una estructura lineal.\n",
    "\n",
    "\n",
    "En el caso de las imágenes de Marte los descriptores de disimilaridad y correlación solo se usan en el mapa de alturas. \n"
   ]
  },
  {
   "cell_type": "markdown",
   "metadata": {
    "id": "S0YZmcTzeMhX"
   },
   "source": [
    "## Procedimientos preliminares"
   ]
  },
  {
   "cell_type": "markdown",
   "metadata": {
    "id": "AM6WIjdKYbEO"
   },
   "source": [
    "Importación de librerías:"
   ]
  },
  {
   "cell_type": "code",
   "execution_count": null,
   "metadata": {
    "id": "v3dChz9qVEio"
   },
   "outputs": [],
   "source": [
    "import matplotlib.pyplot as plt\n",
    "import numpy as np\n",
    "import pandas as pd\n",
    "import pickle\n",
    "\n",
    "from tensorflow import keras\n",
    "from keras.models import Sequential\n",
    "from keras.layers import Dense\n",
    "from keras.utils import np_utils\n",
    "\n",
    "from scipy.stats import kurtosis, skew\n",
    "from skimage.feature.texture import greycomatrix, greycoprops\n",
    "\n",
    "from sklearn.discriminant_analysis import LinearDiscriminantAnalysis\n",
    "from sklearn.metrics import accuracy_score, recall_score, mean_squared_error, r2_score\n",
    "from sklearn.model_selection import KFold\n",
    "from sklearn.neighbors import KNeighborsClassifier, KNeighborsRegressor\n",
    "from sklearn.svm import SVC, SVR\n",
    "\n",
    "from tqdm.notebook import trange"
   ]
  },
  {
   "cell_type": "markdown",
   "metadata": {
    "id": "LLGrxVVLW-BK"
   },
   "source": [
    "Estas líneas cargarán los datos."
   ]
  },
  {
   "cell_type": "code",
   "execution_count": null,
   "metadata": {
    "id": "CFSnXuqjVcQS"
   },
   "outputs": [],
   "source": [
    "fashion_mnist = keras.datasets.fashion_mnist\n",
    "(fashion_tr_im,fashion_tr_lab),(fashion_test_im,fashion_test_lab) = fashion_mnist.load_data()"
   ]
  },
  {
   "cell_type": "code",
   "execution_count": null,
   "metadata": {
    "id": "07jDqmZfWOm7"
   },
   "outputs": [],
   "source": [
    "emojis = np.loadtxt(\"emojis.txt\") \n",
    "x_emojis = emojis[:,1:]\n",
    "y_emojis = emojis[:,0]"
   ]
  },
  {
   "cell_type": "code",
   "execution_count": null,
   "metadata": {
    "id": "ZDULstLSWyNr"
   },
   "outputs": [],
   "source": [
    "inputFile = open('navigability.obj', 'rb')\n",
    "nav = pickle.load(inputFile)"
   ]
  },
  {
   "cell_type": "markdown",
   "metadata": {
    "id": "YcbvYOCFXNL6"
   },
   "source": [
    "En los siguientes códigos se convierten las matrices del conjunto fashion en vectores unidimensionales, y pasamos los vectores del conjunto emojis a matrices de 32x32. Esto será útil más adelante, para cumplir con los requisitos de entrada de los modelos."
   ]
  },
  {
   "cell_type": "code",
   "execution_count": null,
   "metadata": {
    "id": "iR5eHVNzcQqH"
   },
   "outputs": [],
   "source": [
    "fashion_tr_im_rz = []\n",
    "fashion_test_im_rz = []\n",
    "for i in range(fashion_tr_im.shape[0]):\n",
    "  fashion_tr_im_rz.append(fashion_tr_im[i].reshape(784))\n",
    "for i in range(fashion_test_im.shape[0]):\n",
    "  fashion_test_im_rz.append(fashion_test_im[i].reshape(784))"
   ]
  },
  {
   "cell_type": "code",
   "execution_count": null,
   "metadata": {
    "id": "9Qs-anCIYdL6"
   },
   "outputs": [],
   "source": [
    "reshaped_x_emo = []\n",
    "for i in range(x_emojis.shape[0]):\n",
    "  reshaped_x_emo.append(x_emojis[i,:].reshape(32,32))"
   ]
  },
  {
   "cell_type": "markdown",
   "metadata": {
    "id": "5im2qxFZjfC1"
   },
   "source": [
    "## Evaluación de modelos clásicos de aprendizaje supervisado"
   ]
  },
  {
   "cell_type": "markdown",
   "metadata": {
    "id": "Msj2sjPOSG4r"
   },
   "source": [
    "### Usando pixeles y un modelo clásico lineal de clasificación"
   ]
  },
  {
   "cell_type": "markdown",
   "metadata": {
    "id": "nSPq7uxTQlIo"
   },
   "source": [
    "Para la base de datos de FASHION se clasificaron con un análisis discriminante lineal (LDA). En el caso de los emojis se decidió emplear un clasificador con máquina de soporte vectorial con kernel lineal (SVC).\n"
   ]
  },
  {
   "cell_type": "markdown",
   "metadata": {
    "id": "kLUg-AMmYikY"
   },
   "source": [
    "#### Fashion"
   ]
  },
  {
   "cell_type": "code",
   "execution_count": null,
   "metadata": {
    "id": "ZaPln40cJqHO"
   },
   "outputs": [],
   "source": [
    "clfFashion = LinearDiscriminantAnalysis()"
   ]
  },
  {
   "cell_type": "code",
   "execution_count": null,
   "metadata": {
    "colab": {
     "base_uri": "https://localhost:8080/"
    },
    "id": "UoS3DkBeNMe-",
    "outputId": "2fe05b42-69be-4140-c0eb-6a39624b048c"
   },
   "outputs": [
    {
     "data": {
      "text/plain": [
       "LinearDiscriminantAnalysis()"
      ]
     },
     "execution_count": 6,
     "metadata": {},
     "output_type": "execute_result"
    }
   ],
   "source": [
    "clfFashion.fit(fashion_tr_im_rz, fashion_tr_lab)"
   ]
  },
  {
   "cell_type": "code",
   "execution_count": null,
   "metadata": {
    "colab": {
     "base_uri": "https://localhost:8080/"
    },
    "id": "cDj_s8NcNMe_",
    "outputId": "cd289c19-165e-4ba7-fd36-23b0e165838f"
   },
   "outputs": [
    {
     "name": "stdout",
     "output_type": "stream",
     "text": [
      "Accuracy:  0.8151\n",
      "Recall:  [0.777 0.933 0.682 0.846 0.743 0.89  0.558 0.893 0.92  0.909]\n"
     ]
    }
   ],
   "source": [
    "y_pred_fashion = clfFashion.predict(fashion_test_im_rz)\n",
    "acc = accuracy_score(fashion_test_lab, y_pred_fashion)\n",
    "rec = recall_score(fashion_test_lab, y_pred_fashion, average = None)\n",
    "print('Accuracy: ', acc)\n",
    "print('Recall: ', rec)"
   ]
  },
  {
   "cell_type": "markdown",
   "metadata": {
    "id": "jpwQ7zWjYcn8"
   },
   "source": [
    "#### Emojis"
   ]
  },
  {
   "cell_type": "code",
   "execution_count": null,
   "metadata": {
    "id": "CdeKW5ofKclh"
   },
   "outputs": [],
   "source": [
    "clfEmoji = SVC(kernel='linear')\n",
    "kf = KFold(n_splits=10, shuffle = True)"
   ]
  },
  {
   "cell_type": "code",
   "execution_count": null,
   "metadata": {
    "id": "xhipcCeaYOws"
   },
   "outputs": [],
   "source": [
    "accs = []\n",
    "recs = []\n",
    "for train_index, test_index in kf.split(x_emojis):\n",
    "  clfEmoji.fit(x_emojis[train_index], y_emojis[train_index])\n",
    "  y_pred_emoji = clfEmoji.predict(x_emojis[test_index])\n",
    "  accs.append(accuracy_score(y_emojis[test_index], y_pred_emoji))\n",
    "  recs.append(recall_score(y_emojis[test_index], y_pred_emoji, average = None))"
   ]
  },
  {
   "cell_type": "code",
   "execution_count": null,
   "metadata": {
    "colab": {
     "base_uri": "https://localhost:8080/"
    },
    "id": "Bb_qoPf9t-ld",
    "outputId": "1ff36fff-67da-48e0-97ed-09353712e0f4"
   },
   "outputs": [
    {
     "data": {
      "text/plain": [
       "0.7842105263157895"
      ]
     },
     "execution_count": 7,
     "metadata": {},
     "output_type": "execute_result"
    }
   ],
   "source": [
    "np.mean(accs)"
   ]
  },
  {
   "cell_type": "code",
   "execution_count": null,
   "metadata": {
    "colab": {
     "base_uri": "https://localhost:8080/"
    },
    "id": "DdC0mpl2t-le",
    "outputId": "c311950d-f2e7-47c5-c3c4-da4cd8e48701"
   },
   "outputs": [
    {
     "data": {
      "text/plain": [
       "array([0.66990187, 0.81129023, 0.9959984 , 0.63558921, 0.78589251])"
      ]
     },
     "execution_count": 8,
     "metadata": {},
     "output_type": "execute_result"
    }
   ],
   "source": [
    "recsA = np.mean(recs, axis = 0)\n",
    "recsA"
   ]
  },
  {
   "cell_type": "markdown",
   "metadata": {
    "id": "B8TB9vZGSK-K"
   },
   "source": [
    "### Usando pixeles y un modelo clásico no lineal de clasificación"
   ]
  },
  {
   "cell_type": "markdown",
   "metadata": {
    "id": "O3v9A1U8Q65I"
   },
   "source": [
    "\n",
    "El modelo no lineal utilizado para clasificar los datos de FASHION fue KNN con 5 vecinos, evaluado con las mismas métricas de evaluación que se emplearon para el modelo lineal.\n",
    "\n",
    "Para la clasificación de los datos de los emojis se modeló con máquina de soporte vectorial con función de base radial (SVC ‘rbf’).\n"
   ]
  },
  {
   "cell_type": "markdown",
   "metadata": {
    "id": "Qdo8MpQEYtTj"
   },
   "source": [
    "#### Fashion"
   ]
  },
  {
   "cell_type": "code",
   "execution_count": null,
   "metadata": {
    "colab": {
     "base_uri": "https://localhost:8080/"
    },
    "id": "O5FI1bshg-y6",
    "outputId": "57402958-dbc0-491b-e7ca-f75cdcd2e330"
   },
   "outputs": [
    {
     "data": {
      "text/plain": [
       "KNeighborsClassifier()"
      ]
     },
     "execution_count": 4,
     "metadata": {},
     "output_type": "execute_result"
    }
   ],
   "source": [
    "clfFashionKNN = KNeighborsClassifier(n_neighbors=5)\n",
    "clfFashionKNN.fit(fashion_tr_im_rz, fashion_tr_lab)"
   ]
  },
  {
   "cell_type": "code",
   "execution_count": null,
   "metadata": {
    "colab": {
     "base_uri": "https://localhost:8080/"
    },
    "id": "ZJ0NzJxWhKwJ",
    "outputId": "b12ece59-e43a-4f72-f6db-c5a65bcadcb7"
   },
   "outputs": [
    {
     "name": "stdout",
     "output_type": "stream",
     "text": [
      "Accuracy:  0.8554\n",
      "Recall:  [0.855 0.968 0.819 0.86  0.773 0.822 0.575 0.961 0.953 0.968]\n"
     ]
    }
   ],
   "source": [
    "y_pred_fashion_rad = clfFashionKNN.predict(fashion_test_im_rz)\n",
    "acc = accuracy_score(fashion_test_lab, y_pred_fashion_rad)\n",
    "rec = recall_score(fashion_test_lab, y_pred_fashion_rad, average = None)\n",
    "print('Accuracy: ', acc)\n",
    "print('Recall: ', rec)"
   ]
  },
  {
   "cell_type": "markdown",
   "metadata": {
    "id": "VZWWHPZ1YvcU"
   },
   "source": [
    "#### Emojis"
   ]
  },
  {
   "cell_type": "code",
   "execution_count": null,
   "metadata": {
    "id": "jUHpYbV8Yxkq"
   },
   "outputs": [],
   "source": [
    "clfEmojiRad = SVC(kernel='rbf')"
   ]
  },
  {
   "cell_type": "code",
   "execution_count": null,
   "metadata": {
    "id": "3xzgLXwEnvPP"
   },
   "outputs": [],
   "source": [
    "kf = KFold(n_splits=10, shuffle = True)"
   ]
  },
  {
   "cell_type": "code",
   "execution_count": null,
   "metadata": {
    "id": "CQ8bwmXMYzjG"
   },
   "outputs": [],
   "source": [
    "accsRad = []\n",
    "recsRad = []\n",
    "for train_index, test_index in kf.split(x_emojis):\n",
    "  clfEmojiRad.fit(x_emojis[train_index], y_emojis[train_index])\n",
    "  y_pred_emoji = clfEmojiRad.predict(x_emojis[test_index])\n",
    "  accsRad.append(accuracy_score(y_emojis[test_index], y_pred_emoji))\n",
    "  recsRad.append(recall_score(y_emojis[test_index], y_pred_emoji, average = None))"
   ]
  },
  {
   "cell_type": "code",
   "execution_count": null,
   "metadata": {
    "colab": {
     "base_uri": "https://localhost:8080/"
    },
    "id": "upVxbEeDqExm",
    "outputId": "27314ec4-18e9-460d-a8ee-a30042477fc0"
   },
   "outputs": [
    {
     "data": {
      "text/plain": [
       "[0.8178137651821862,\n",
       " 0.8502024291497976,\n",
       " 0.8461538461538461,\n",
       " 0.8259109311740891,\n",
       " 0.8299595141700404,\n",
       " 0.8218623481781376,\n",
       " 0.8704453441295547,\n",
       " 0.8582995951417004,\n",
       " 0.8502024291497976,\n",
       " 0.8137651821862348]"
      ]
     },
     "execution_count": 10,
     "metadata": {},
     "output_type": "execute_result"
    }
   ],
   "source": [
    "accsRad"
   ]
  },
  {
   "cell_type": "code",
   "execution_count": null,
   "metadata": {
    "colab": {
     "base_uri": "https://localhost:8080/"
    },
    "id": "Gtp2hrq0qExn",
    "outputId": "e850bfea-5cd1-46c9-c804-ebb1766fd8b0"
   },
   "outputs": [
    {
     "data": {
      "text/plain": [
       "0.8384615384615385"
      ]
     },
     "execution_count": 11,
     "metadata": {},
     "output_type": "execute_result"
    }
   ],
   "source": [
    "np.mean(accsRad)"
   ]
  },
  {
   "cell_type": "code",
   "execution_count": null,
   "metadata": {
    "colab": {
     "base_uri": "https://localhost:8080/"
    },
    "id": "otTIh4CdqExn",
    "outputId": "a8d691fc-9fac-45af-e45e-3ca568d04220"
   },
   "outputs": [
    {
     "data": {
      "text/plain": [
       "array([0.73262437, 0.88611023, 0.99814815, 0.7072808 , 0.85233049])"
      ]
     },
     "execution_count": 12,
     "metadata": {},
     "output_type": "execute_result"
    }
   ],
   "source": [
    "recsARad = np.mean(recsRad, axis = 0)\n",
    "recsARad"
   ]
  },
  {
   "cell_type": "markdown",
   "metadata": {
    "id": "Yl5cyZfVSSWX"
   },
   "source": [
    "### Usando descriptores y un modelo clásico lineal de clasificación"
   ]
  },
  {
   "cell_type": "markdown",
   "metadata": {
    "id": "CqZO5lLZRl3i"
   },
   "source": [
    "\n",
    "Al emplear los descriptores se reduce el tamaño de la entrada de datos, lo que nos permite utilizar el SVC con base lineal en ambas bases de datos. \n"
   ]
  },
  {
   "cell_type": "markdown",
   "metadata": {
    "id": "sZsaACeRXsgQ"
   },
   "source": [
    "#### Fashion"
   ]
  },
  {
   "cell_type": "markdown",
   "metadata": {
    "id": "dTlMpVoaioLR"
   },
   "source": [
    "Primero hay que obtener los descriptores. En el siguiente código estos son almacenados en un dataframe. Hacemos eso tanto para el conjunto de entrenamiento como el de prueba."
   ]
  },
  {
   "cell_type": "code",
   "execution_count": null,
   "metadata": {
    "id": "aBhdqhjBUnkJ"
   },
   "outputs": [],
   "source": [
    "fashdf = pd.DataFrame(columns =['Promedio','Maximo', 'Varianza', 'Sesgo', 'Curtosis', 'Disimilaridad', 'Correlación'])"
   ]
  },
  {
   "cell_type": "code",
   "execution_count": null,
   "metadata": {
    "colab": {
     "base_uri": "https://localhost:8080/",
     "height": 49,
     "referenced_widgets": [
      "6669cf7cd6794c749ca1f3630faaf385",
      "6260c6a9cbba48a699cb7fe18e16bd46",
      "60dab02084e543188374509032859bcc",
      "ee0578194e5e42dd9d52fd0a46a744ce",
      "dcdda6ece56e4364bc7bc809fc9cb91a",
      "52d008432a5945edbe17b39bcbb219c0",
      "a2f31b03a13b4013bd2125bf4ed33ea1",
      "4dedb99159a64a019bca718e80cd7f75",
      "e7a6b389ae0a4a0c930d5755fcda4fde",
      "4a5ab0796ffc433d9b72b9ad0a058f98",
      "f295998c546b4f8ca2add492b24bd553"
     ]
    },
    "id": "ykWDnzmhSdaG",
    "outputId": "cc21f8f9-b5ce-4305-bb24-b9ae29e69d56"
   },
   "outputs": [
    {
     "data": {
      "application/vnd.jupyter.widget-view+json": {
       "model_id": "6669cf7cd6794c749ca1f3630faaf385",
       "version_major": 2,
       "version_minor": 0
      },
      "text/plain": [
       "  0%|          | 0/60000 [00:00<?, ?it/s]"
      ]
     },
     "metadata": {},
     "output_type": "display_data"
    }
   ],
   "source": [
    "for obs in trange(len(fashion_tr_im_rz)):\n",
    "  new_row = []\n",
    "  new_row.append(fashion_tr_im_rz[obs].mean())\n",
    "  new_row.append(fashion_tr_im_rz[obs].max())\n",
    "  new_row.append(fashion_tr_im_rz[obs].var())\n",
    "  new_row.append(skew(fashion_tr_im_rz[obs].flatten()))\n",
    "  new_row.append(kurtosis(fashion_tr_im_rz[obs].flatten()))\n",
    "  tmp = (fashion_tr_im[obs]-fashion_tr_im[obs].min()).astype(int)\n",
    "  glcm = greycomatrix(tmp , distances=[5], angles=[0], levels=784, symmetric=True, normed=True)\n",
    "  new_row.append(greycoprops(glcm, 'dissimilarity')[0, 0])\n",
    "  new_row.append(greycoprops(glcm, 'correlation')[0, 0])\n",
    "  fashdf.loc[len(fashdf)] = new_row"
   ]
  },
  {
   "cell_type": "code",
   "execution_count": null,
   "metadata": {
    "colab": {
     "base_uri": "https://localhost:8080/",
     "height": 419
    },
    "id": "yG4RcXUZc_DB",
    "outputId": "e232146d-a445-4f3c-ee8c-83eb4774812b"
   },
   "outputs": [
    {
     "data": {
      "text/html": [
       "<div>\n",
       "<style scoped>\n",
       "    .dataframe tbody tr th:only-of-type {\n",
       "        vertical-align: middle;\n",
       "    }\n",
       "\n",
       "    .dataframe tbody tr th {\n",
       "        vertical-align: top;\n",
       "    }\n",
       "\n",
       "    .dataframe thead th {\n",
       "        text-align: right;\n",
       "    }\n",
       "</style>\n",
       "<table border=\"1\" class=\"dataframe\">\n",
       "  <thead>\n",
       "    <tr style=\"text-align: right;\">\n",
       "      <th></th>\n",
       "      <th>Promedio</th>\n",
       "      <th>Maximo</th>\n",
       "      <th>Varianza</th>\n",
       "      <th>Sesgo</th>\n",
       "      <th>Curtosis</th>\n",
       "      <th>Disimilaridad</th>\n",
       "      <th>Correlación</th>\n",
       "    </tr>\n",
       "  </thead>\n",
       "  <tbody>\n",
       "    <tr>\n",
       "      <th>0</th>\n",
       "      <td>97.253827</td>\n",
       "      <td>255.0</td>\n",
       "      <td>10361.681746</td>\n",
       "      <td>0.219186</td>\n",
       "      <td>-1.816807</td>\n",
       "      <td>44.604037</td>\n",
       "      <td>0.674014</td>\n",
       "    </tr>\n",
       "    <tr>\n",
       "      <th>1</th>\n",
       "      <td>107.905612</td>\n",
       "      <td>255.0</td>\n",
       "      <td>10166.980887</td>\n",
       "      <td>0.013599</td>\n",
       "      <td>-1.849794</td>\n",
       "      <td>95.836957</td>\n",
       "      <td>0.086848</td>\n",
       "    </tr>\n",
       "    <tr>\n",
       "      <th>2</th>\n",
       "      <td>36.558673</td>\n",
       "      <td>255.0</td>\n",
       "      <td>2469.965945</td>\n",
       "      <td>1.253612</td>\n",
       "      <td>1.568225</td>\n",
       "      <td>44.385093</td>\n",
       "      <td>0.164066</td>\n",
       "    </tr>\n",
       "    <tr>\n",
       "      <th>3</th>\n",
       "      <td>59.501276</td>\n",
       "      <td>255.0</td>\n",
       "      <td>4205.431121</td>\n",
       "      <td>0.439461</td>\n",
       "      <td>-1.307167</td>\n",
       "      <td>62.456522</td>\n",
       "      <td>0.152527</td>\n",
       "    </tr>\n",
       "    <tr>\n",
       "      <th>4</th>\n",
       "      <td>78.044643</td>\n",
       "      <td>255.0</td>\n",
       "      <td>10783.420201</td>\n",
       "      <td>0.653719</td>\n",
       "      <td>-1.488643</td>\n",
       "      <td>99.863354</td>\n",
       "      <td>0.112331</td>\n",
       "    </tr>\n",
       "    <tr>\n",
       "      <th>...</th>\n",
       "      <td>...</td>\n",
       "      <td>...</td>\n",
       "      <td>...</td>\n",
       "      <td>...</td>\n",
       "      <td>...</td>\n",
       "      <td>...</td>\n",
       "      <td>...</td>\n",
       "    </tr>\n",
       "    <tr>\n",
       "      <th>59995</th>\n",
       "      <td>26.738520</td>\n",
       "      <td>255.0</td>\n",
       "      <td>3053.080863</td>\n",
       "      <td>2.068636</td>\n",
       "      <td>3.329212</td>\n",
       "      <td>36.611801</td>\n",
       "      <td>0.155008</td>\n",
       "    </tr>\n",
       "    <tr>\n",
       "      <th>59996</th>\n",
       "      <td>54.542092</td>\n",
       "      <td>255.0</td>\n",
       "      <td>8656.283943</td>\n",
       "      <td>1.247745</td>\n",
       "      <td>-0.294726</td>\n",
       "      <td>75.226708</td>\n",
       "      <td>0.218087</td>\n",
       "    </tr>\n",
       "    <tr>\n",
       "      <th>59997</th>\n",
       "      <td>79.778061</td>\n",
       "      <td>255.0</td>\n",
       "      <td>11558.578294</td>\n",
       "      <td>0.722509</td>\n",
       "      <td>-1.361234</td>\n",
       "      <td>104.068323</td>\n",
       "      <td>0.123352</td>\n",
       "    </tr>\n",
       "    <tr>\n",
       "      <th>59998</th>\n",
       "      <td>42.742347</td>\n",
       "      <td>255.0</td>\n",
       "      <td>1482.915758</td>\n",
       "      <td>0.701708</td>\n",
       "      <td>1.860904</td>\n",
       "      <td>35.507764</td>\n",
       "      <td>0.061244</td>\n",
       "    </tr>\n",
       "    <tr>\n",
       "      <th>59999</th>\n",
       "      <td>21.280612</td>\n",
       "      <td>255.0</td>\n",
       "      <td>2355.798808</td>\n",
       "      <td>2.467147</td>\n",
       "      <td>5.380679</td>\n",
       "      <td>23.131988</td>\n",
       "      <td>0.476337</td>\n",
       "    </tr>\n",
       "  </tbody>\n",
       "</table>\n",
       "<p>60000 rows × 7 columns</p>\n",
       "</div>"
      ],
      "text/plain": [
       "         Promedio  Maximo      Varianza  ...  Curtosis  Disimilaridad  Correlación\n",
       "0       97.253827   255.0  10361.681746  ... -1.816807      44.604037     0.674014\n",
       "1      107.905612   255.0  10166.980887  ... -1.849794      95.836957     0.086848\n",
       "2       36.558673   255.0   2469.965945  ...  1.568225      44.385093     0.164066\n",
       "3       59.501276   255.0   4205.431121  ... -1.307167      62.456522     0.152527\n",
       "4       78.044643   255.0  10783.420201  ... -1.488643      99.863354     0.112331\n",
       "...           ...     ...           ...  ...       ...            ...          ...\n",
       "59995   26.738520   255.0   3053.080863  ...  3.329212      36.611801     0.155008\n",
       "59996   54.542092   255.0   8656.283943  ... -0.294726      75.226708     0.218087\n",
       "59997   79.778061   255.0  11558.578294  ... -1.361234     104.068323     0.123352\n",
       "59998   42.742347   255.0   1482.915758  ...  1.860904      35.507764     0.061244\n",
       "59999   21.280612   255.0   2355.798808  ...  5.380679      23.131988     0.476337\n",
       "\n",
       "[60000 rows x 7 columns]"
      ]
     },
     "execution_count": 13,
     "metadata": {},
     "output_type": "execute_result"
    }
   ],
   "source": [
    "fashdf"
   ]
  },
  {
   "cell_type": "code",
   "execution_count": null,
   "metadata": {
    "id": "PrTJpFONWda3"
   },
   "outputs": [],
   "source": [
    "fash_testdf = pd.DataFrame(columns =['Promedio','Maximo', 'Varianza', 'Sesgo', 'Curtosis', 'Disimilaridad', 'Correlación'])"
   ]
  },
  {
   "cell_type": "code",
   "execution_count": null,
   "metadata": {
    "colab": {
     "base_uri": "https://localhost:8080/",
     "height": 49,
     "referenced_widgets": [
      "50e4ded19e7c44cb814990365459eb02",
      "104a7371c1b946558d2412acc7c9677f",
      "de6762b5c45c4cea8ad20e3cc6ce8512",
      "eeb43190108a45e3803ac68f66100c03",
      "0993a5a3c01b48f1aa1258777cfed8a7",
      "80d10899944546a9a264207e800ce10d",
      "82ad733608b445b48e6d62f6071f7c19",
      "723485da796c48b3be414a4c35c063e1",
      "e1eb0c968e2e45ebaba668316769234f",
      "a606f43ad5d64dfc8271c2671e3827e4",
      "265a84c2bb984319980cdb602e6e8e42"
     ]
    },
    "id": "RLlzlrENWB21",
    "outputId": "d3c442fa-7a5c-49da-b8d3-d9d0ade63d1a"
   },
   "outputs": [
    {
     "data": {
      "application/vnd.jupyter.widget-view+json": {
       "model_id": "50e4ded19e7c44cb814990365459eb02",
       "version_major": 2,
       "version_minor": 0
      },
      "text/plain": [
       "  0%|          | 0/10000 [00:00<?, ?it/s]"
      ]
     },
     "metadata": {},
     "output_type": "display_data"
    }
   ],
   "source": [
    "for obs in trange(len(fashion_test_im_rz)):\n",
    "  new_row = []\n",
    "  new_row.append(fashion_test_im_rz[obs].mean())\n",
    "  new_row.append(fashion_test_im_rz[obs].max())\n",
    "  new_row.append(fashion_test_im_rz[obs].var())\n",
    "  new_row.append(skew(fashion_test_im_rz[obs].flatten()))\n",
    "  new_row.append(kurtosis(fashion_test_im_rz[obs].flatten()))\n",
    "  tmp = (fashion_test_im[obs]-fashion_test_im[obs].min()).astype(int)\n",
    "  glcm = greycomatrix(tmp , distances=[5], angles=[0], levels=784, symmetric=True, normed=True)\n",
    "  new_row.append(greycoprops(glcm, 'dissimilarity')[0, 0])\n",
    "  new_row.append(greycoprops(glcm, 'correlation')[0, 0])\n",
    "  fash_testdf.loc[len(fash_testdf)] = new_row"
   ]
  },
  {
   "cell_type": "code",
   "execution_count": null,
   "metadata": {
    "colab": {
     "base_uri": "https://localhost:8080/",
     "height": 419
    },
    "id": "Mh1AClgOgSx6",
    "outputId": "bceebcc2-4610-463f-9410-137fdb9b07c5"
   },
   "outputs": [
    {
     "data": {
      "text/html": [
       "<div>\n",
       "<style scoped>\n",
       "    .dataframe tbody tr th:only-of-type {\n",
       "        vertical-align: middle;\n",
       "    }\n",
       "\n",
       "    .dataframe tbody tr th {\n",
       "        vertical-align: top;\n",
       "    }\n",
       "\n",
       "    .dataframe thead th {\n",
       "        text-align: right;\n",
       "    }\n",
       "</style>\n",
       "<table border=\"1\" class=\"dataframe\">\n",
       "  <thead>\n",
       "    <tr style=\"text-align: right;\">\n",
       "      <th></th>\n",
       "      <th>Promedio</th>\n",
       "      <th>Maximo</th>\n",
       "      <th>Varianza</th>\n",
       "      <th>Sesgo</th>\n",
       "      <th>Curtosis</th>\n",
       "      <th>Disimilaridad</th>\n",
       "      <th>Correlación</th>\n",
       "    </tr>\n",
       "  </thead>\n",
       "  <tbody>\n",
       "    <tr>\n",
       "      <th>0</th>\n",
       "      <td>42.673469</td>\n",
       "      <td>255.0</td>\n",
       "      <td>4719.594908</td>\n",
       "      <td>1.208112</td>\n",
       "      <td>-0.105474</td>\n",
       "      <td>23.850932</td>\n",
       "      <td>0.723251</td>\n",
       "    </tr>\n",
       "    <tr>\n",
       "      <th>1</th>\n",
       "      <td>128.818878</td>\n",
       "      <td>255.0</td>\n",
       "      <td>12688.592195</td>\n",
       "      <td>-0.130813</td>\n",
       "      <td>-1.860965</td>\n",
       "      <td>103.470497</td>\n",
       "      <td>0.112237</td>\n",
       "    </tr>\n",
       "    <tr>\n",
       "      <th>2</th>\n",
       "      <td>65.714286</td>\n",
       "      <td>255.0</td>\n",
       "      <td>10247.015306</td>\n",
       "      <td>1.009458</td>\n",
       "      <td>-0.840044</td>\n",
       "      <td>99.447205</td>\n",
       "      <td>0.071071</td>\n",
       "    </tr>\n",
       "    <tr>\n",
       "      <th>3</th>\n",
       "      <td>45.123724</td>\n",
       "      <td>255.0</td>\n",
       "      <td>5920.845662</td>\n",
       "      <td>1.442453</td>\n",
       "      <td>0.569551</td>\n",
       "      <td>66.751553</td>\n",
       "      <td>0.197086</td>\n",
       "    </tr>\n",
       "    <tr>\n",
       "      <th>4</th>\n",
       "      <td>79.917092</td>\n",
       "      <td>254.0</td>\n",
       "      <td>4320.678075</td>\n",
       "      <td>-0.033439</td>\n",
       "      <td>-1.364594</td>\n",
       "      <td>64.594720</td>\n",
       "      <td>0.025670</td>\n",
       "    </tr>\n",
       "    <tr>\n",
       "      <th>...</th>\n",
       "      <td>...</td>\n",
       "      <td>...</td>\n",
       "      <td>...</td>\n",
       "      <td>...</td>\n",
       "      <td>...</td>\n",
       "      <td>...</td>\n",
       "      <td>...</td>\n",
       "    </tr>\n",
       "    <tr>\n",
       "      <th>9995</th>\n",
       "      <td>76.091837</td>\n",
       "      <td>254.0</td>\n",
       "      <td>8559.241566</td>\n",
       "      <td>0.533298</td>\n",
       "      <td>-1.526896</td>\n",
       "      <td>42.473602</td>\n",
       "      <td>0.651113</td>\n",
       "    </tr>\n",
       "    <tr>\n",
       "      <th>9996</th>\n",
       "      <td>30.617347</td>\n",
       "      <td>255.0</td>\n",
       "      <td>3332.511740</td>\n",
       "      <td>1.965041</td>\n",
       "      <td>3.029607</td>\n",
       "      <td>48.475155</td>\n",
       "      <td>0.168121</td>\n",
       "    </tr>\n",
       "    <tr>\n",
       "      <th>9997</th>\n",
       "      <td>45.311224</td>\n",
       "      <td>255.0</td>\n",
       "      <td>6005.984772</td>\n",
       "      <td>1.366388</td>\n",
       "      <td>0.189099</td>\n",
       "      <td>54.649068</td>\n",
       "      <td>0.365926</td>\n",
       "    </tr>\n",
       "    <tr>\n",
       "      <th>9998</th>\n",
       "      <td>49.970663</td>\n",
       "      <td>255.0</td>\n",
       "      <td>7585.972354</td>\n",
       "      <td>1.259243</td>\n",
       "      <td>-0.284168</td>\n",
       "      <td>80.580745</td>\n",
       "      <td>0.090820</td>\n",
       "    </tr>\n",
       "    <tr>\n",
       "      <th>9999</th>\n",
       "      <td>31.109694</td>\n",
       "      <td>254.0</td>\n",
       "      <td>2277.100212</td>\n",
       "      <td>1.792420</td>\n",
       "      <td>3.311949</td>\n",
       "      <td>26.215839</td>\n",
       "      <td>0.521190</td>\n",
       "    </tr>\n",
       "  </tbody>\n",
       "</table>\n",
       "<p>10000 rows × 7 columns</p>\n",
       "</div>"
      ],
      "text/plain": [
       "        Promedio  Maximo      Varianza  ...  Curtosis  Disimilaridad  Correlación\n",
       "0      42.673469   255.0   4719.594908  ... -0.105474      23.850932     0.723251\n",
       "1     128.818878   255.0  12688.592195  ... -1.860965     103.470497     0.112237\n",
       "2      65.714286   255.0  10247.015306  ... -0.840044      99.447205     0.071071\n",
       "3      45.123724   255.0   5920.845662  ...  0.569551      66.751553     0.197086\n",
       "4      79.917092   254.0   4320.678075  ... -1.364594      64.594720     0.025670\n",
       "...          ...     ...           ...  ...       ...            ...          ...\n",
       "9995   76.091837   254.0   8559.241566  ... -1.526896      42.473602     0.651113\n",
       "9996   30.617347   255.0   3332.511740  ...  3.029607      48.475155     0.168121\n",
       "9997   45.311224   255.0   6005.984772  ...  0.189099      54.649068     0.365926\n",
       "9998   49.970663   255.0   7585.972354  ... -0.284168      80.580745     0.090820\n",
       "9999   31.109694   254.0   2277.100212  ...  3.311949      26.215839     0.521190\n",
       "\n",
       "[10000 rows x 7 columns]"
      ]
     },
     "execution_count": 18,
     "metadata": {},
     "output_type": "execute_result"
    }
   ],
   "source": [
    "fash_testdf"
   ]
  },
  {
   "cell_type": "markdown",
   "metadata": {
    "id": "Uh8Xu2OZi6oh"
   },
   "source": [
    "Ahora que tenemos las entradas como queremos, pasamos a entrenar el modelo."
   ]
  },
  {
   "cell_type": "code",
   "execution_count": null,
   "metadata": {
    "id": "LhuNf7OxaDLY"
   },
   "outputs": [],
   "source": [
    "clfFashion_des = SVC(kernel='linear')"
   ]
  },
  {
   "cell_type": "code",
   "execution_count": null,
   "metadata": {
    "colab": {
     "base_uri": "https://localhost:8080/"
    },
    "id": "XBA60ub5YWlc",
    "outputId": "af026589-874a-4ae3-a564-6e539b00e40e"
   },
   "outputs": [
    {
     "data": {
      "text/plain": [
       "SVC(kernel='linear')"
      ]
     },
     "execution_count": 15,
     "metadata": {},
     "output_type": "execute_result"
    }
   ],
   "source": [
    "clfFashion_des.fit(fashdf, fashion_tr_lab)"
   ]
  },
  {
   "cell_type": "code",
   "execution_count": null,
   "metadata": {
    "colab": {
     "base_uri": "https://localhost:8080/"
    },
    "id": "QMaSPgFwYkdd",
    "outputId": "ed240175-8aa3-4b61-8c67-81a06c6d8cc7"
   },
   "outputs": [
    {
     "name": "stdout",
     "output_type": "stream",
     "text": [
      "Accuracy:  0.5437\n",
      "Recall:  [0.216 0.844 0.324 0.477 0.525 0.73  0.249 0.776 0.592 0.704]\n"
     ]
    }
   ],
   "source": [
    "y_pred_fashion_des = clfFashion_des.predict(fash_testdf)\n",
    "acc = accuracy_score(fashion_test_lab, y_pred_fashion_des)\n",
    "rec = recall_score(fashion_test_lab, y_pred_fashion_des, average = None)\n",
    "print('Accuracy: ', acc)\n",
    "print('Recall: ', rec)"
   ]
  },
  {
   "cell_type": "markdown",
   "metadata": {
    "id": "gY4SwMJHWn3I"
   },
   "source": [
    "#### Emojis"
   ]
  },
  {
   "cell_type": "markdown",
   "metadata": {
    "id": "vCS571cxrbOU"
   },
   "source": [
    "De nuevo, comenzamos calculando los descriptores y almacenándolos en un dataframe. Posteriormente entrenamos a los modelos con ellos."
   ]
  },
  {
   "cell_type": "code",
   "execution_count": null,
   "metadata": {
    "id": "riKWrncfWqFq"
   },
   "outputs": [],
   "source": [
    "emodf = pd.DataFrame(columns =['Promedio','Maximo', 'Varianza', 'Sesgo', 'Curtosis', 'Disimilaridad', 'Correlación'])"
   ]
  },
  {
   "cell_type": "code",
   "execution_count": null,
   "metadata": {
    "colab": {
     "base_uri": "https://localhost:8080/",
     "height": 49,
     "referenced_widgets": [
      "3ccb3f7a3d3a45b78cd10cef29f11ea9",
      "1724a36f11764972b7583a3871d0c4d7",
      "04d201e9088a4adca5dd7f198e9b5300",
      "482a181b75b14bf1a18e370506d83698",
      "d843c30ff18b4254a87dd46a3c5166c1",
      "299f551abe754a839c8eb5e86b424d7a",
      "728b73ddd16d42e8b0e091620540b434",
      "30df75a3b39448ffb625c871c8dac695",
      "70be37ac06fe4162881ba8d27ae685fe",
      "ee5e905e601f4df8997338f3bb5f7468",
      "888cf795b16e43ac839a9b183a250b83"
     ]
    },
    "id": "kfbGODjjXTaZ",
    "outputId": "6c9a665b-0ba1-4003-98b2-96c4b344907c"
   },
   "outputs": [
    {
     "data": {
      "application/vnd.jupyter.widget-view+json": {
       "model_id": "3ccb3f7a3d3a45b78cd10cef29f11ea9",
       "version_major": 2,
       "version_minor": 0
      },
      "text/plain": [
       "  0%|          | 0/2470 [00:00<?, ?it/s]"
      ]
     },
     "metadata": {},
     "output_type": "display_data"
    }
   ],
   "source": [
    "for obs in trange(len(x_emojis)):\n",
    "  new_row = []\n",
    "  new_row.append(x_emojis[obs].mean())\n",
    "  new_row.append(x_emojis[obs].max())\n",
    "  new_row.append(x_emojis[obs].var())\n",
    "  new_row.append(skew(x_emojis[obs].flatten()))\n",
    "  new_row.append(kurtosis(x_emojis[obs].flatten()))\n",
    "  tmp = (reshaped_x_emo[obs]-reshaped_x_emo[obs].min()).astype(int)\n",
    "  glcm = greycomatrix(tmp , distances=[5], angles=[0], levels=1024, symmetric=True, normed=True)\n",
    "  new_row.append(greycoprops(glcm, 'dissimilarity')[0, 0])\n",
    "  new_row.append(greycoprops(glcm, 'correlation')[0, 0])\n",
    "  emodf.loc[len(emodf)] = new_row"
   ]
  },
  {
   "cell_type": "code",
   "execution_count": null,
   "metadata": {
    "colab": {
     "base_uri": "https://localhost:8080/",
     "height": 204
    },
    "id": "A-572Ygu6moT",
    "outputId": "b6a895ef-014d-45ac-aaf6-be95b6b067ff"
   },
   "outputs": [
    {
     "data": {
      "text/html": [
       "<div>\n",
       "<style scoped>\n",
       "    .dataframe tbody tr th:only-of-type {\n",
       "        vertical-align: middle;\n",
       "    }\n",
       "\n",
       "    .dataframe tbody tr th {\n",
       "        vertical-align: top;\n",
       "    }\n",
       "\n",
       "    .dataframe thead th {\n",
       "        text-align: right;\n",
       "    }\n",
       "</style>\n",
       "<table border=\"1\" class=\"dataframe\">\n",
       "  <thead>\n",
       "    <tr style=\"text-align: right;\">\n",
       "      <th></th>\n",
       "      <th>Promedio</th>\n",
       "      <th>Maximo</th>\n",
       "      <th>Varianza</th>\n",
       "      <th>Sesgo</th>\n",
       "      <th>Curtosis</th>\n",
       "      <th>Disimilaridad</th>\n",
       "      <th>Correlación</th>\n",
       "    </tr>\n",
       "  </thead>\n",
       "  <tbody>\n",
       "    <tr>\n",
       "      <th>0</th>\n",
       "      <td>0.180664</td>\n",
       "      <td>1.0</td>\n",
       "      <td>0.148025</td>\n",
       "      <td>1.660011</td>\n",
       "      <td>0.755636</td>\n",
       "      <td>0.298611</td>\n",
       "      <td>-0.019352</td>\n",
       "    </tr>\n",
       "    <tr>\n",
       "      <th>1</th>\n",
       "      <td>0.191406</td>\n",
       "      <td>1.0</td>\n",
       "      <td>0.154770</td>\n",
       "      <td>1.568823</td>\n",
       "      <td>0.461205</td>\n",
       "      <td>0.327546</td>\n",
       "      <td>-0.057562</td>\n",
       "    </tr>\n",
       "    <tr>\n",
       "      <th>2</th>\n",
       "      <td>0.239258</td>\n",
       "      <td>1.0</td>\n",
       "      <td>0.182014</td>\n",
       "      <td>1.222333</td>\n",
       "      <td>-0.505902</td>\n",
       "      <td>0.369213</td>\n",
       "      <td>0.001418</td>\n",
       "    </tr>\n",
       "    <tr>\n",
       "      <th>3</th>\n",
       "      <td>0.257812</td>\n",
       "      <td>1.0</td>\n",
       "      <td>0.191345</td>\n",
       "      <td>1.107319</td>\n",
       "      <td>-0.773844</td>\n",
       "      <td>0.391204</td>\n",
       "      <td>-0.009800</td>\n",
       "    </tr>\n",
       "    <tr>\n",
       "      <th>4</th>\n",
       "      <td>0.226562</td>\n",
       "      <td>1.0</td>\n",
       "      <td>0.175232</td>\n",
       "      <td>1.306416</td>\n",
       "      <td>-0.293278</td>\n",
       "      <td>0.349537</td>\n",
       "      <td>0.007116</td>\n",
       "    </tr>\n",
       "  </tbody>\n",
       "</table>\n",
       "</div>"
      ],
      "text/plain": [
       "   Promedio  Maximo  Varianza     Sesgo  Curtosis  Disimilaridad  Correlación\n",
       "0  0.180664     1.0  0.148025  1.660011  0.755636       0.298611    -0.019352\n",
       "1  0.191406     1.0  0.154770  1.568823  0.461205       0.327546    -0.057562\n",
       "2  0.239258     1.0  0.182014  1.222333 -0.505902       0.369213     0.001418\n",
       "3  0.257812     1.0  0.191345  1.107319 -0.773844       0.391204    -0.009800\n",
       "4  0.226562     1.0  0.175232  1.306416 -0.293278       0.349537     0.007116"
      ]
     },
     "execution_count": 101,
     "metadata": {},
     "output_type": "execute_result"
    }
   ],
   "source": [
    "emodf.head()"
   ]
  },
  {
   "cell_type": "code",
   "execution_count": null,
   "metadata": {
    "id": "pmgHAVmLbJOJ"
   },
   "outputs": [],
   "source": [
    "clfEmoji_des = SVC(kernel='linear')"
   ]
  },
  {
   "cell_type": "code",
   "execution_count": null,
   "metadata": {
    "id": "_HI4xvDjp9C3"
   },
   "outputs": [],
   "source": [
    "kf = KFold(n_splits=10, shuffle = True)"
   ]
  },
  {
   "cell_type": "code",
   "execution_count": null,
   "metadata": {
    "id": "iWsMacQobJOK"
   },
   "outputs": [],
   "source": [
    "accs_des = []\n",
    "recs_des = []\n",
    "for train_index, test_index in kf.split(emodf):\n",
    "  clfEmoji_des.fit(emodf.iloc[train_index], y_emojis[train_index])\n",
    "  y_pred_emoji_des = clfEmoji_des.predict(emodf.iloc[test_index])\n",
    "  accs_des.append(accuracy_score(y_emojis[test_index], y_pred_emoji_des))\n",
    "  recs_des.append(recall_score(y_emojis[test_index], y_pred_emoji_des, average = None))"
   ]
  },
  {
   "cell_type": "code",
   "execution_count": null,
   "metadata": {
    "colab": {
     "base_uri": "https://localhost:8080/"
    },
    "id": "2PR6RVO9yZDb",
    "outputId": "74e13323-22e0-41bd-e919-2719bbec19e2"
   },
   "outputs": [
    {
     "data": {
      "text/plain": [
       "[0.3481781376518219,\n",
       " 0.30364372469635625,\n",
       " 0.2874493927125506,\n",
       " 0.291497975708502,\n",
       " 0.3117408906882591,\n",
       " 0.29959514170040485,\n",
       " 0.30364372469635625,\n",
       " 0.291497975708502,\n",
       " 0.3117408906882591,\n",
       " 0.29959514170040485]"
      ]
     },
     "execution_count": 19,
     "metadata": {},
     "output_type": "execute_result"
    }
   ],
   "source": [
    "accs_des"
   ]
  },
  {
   "cell_type": "code",
   "execution_count": null,
   "metadata": {
    "colab": {
     "base_uri": "https://localhost:8080/"
    },
    "id": "e3otTNo9yZDc",
    "outputId": "185064aa-b59c-4863-f5d4-7ed2d828a4ef"
   },
   "outputs": [
    {
     "data": {
      "text/plain": [
       "0.3048582995951417"
      ]
     },
     "execution_count": 20,
     "metadata": {},
     "output_type": "execute_result"
    }
   ],
   "source": [
    "np.mean(accs_des)"
   ]
  },
  {
   "cell_type": "code",
   "execution_count": null,
   "metadata": {
    "colab": {
     "base_uri": "https://localhost:8080/"
    },
    "id": "E1zjS2J5yZDc",
    "outputId": "31a35751-5309-4502-f378-2457a8ea4643"
   },
   "outputs": [
    {
     "data": {
      "text/plain": [
       "array([0.13187504, 0.66560358, 0.64365362, 0.04672734, 0.03595273])"
      ]
     },
     "execution_count": 21,
     "metadata": {},
     "output_type": "execute_result"
    }
   ],
   "source": [
    "recsA_des = np.mean(recs_des, axis = 0)\n",
    "recsA_des"
   ]
  },
  {
   "cell_type": "markdown",
   "metadata": {
    "id": "lfYzcMYRSVIK"
   },
   "source": [
    "### Usando descriptores y un modelo clásico no lineal de clasificación"
   ]
  },
  {
   "cell_type": "markdown",
   "metadata": {
    "id": "E8_GVKkVRwcW"
   },
   "source": [
    "Para terminar con la clasificación de los modelos tradicionales se empleó un clasificador de máquina de soporte vectorial con función de base radial (SVC ‘rbf’).\n"
   ]
  },
  {
   "cell_type": "markdown",
   "metadata": {
    "id": "mCh_yErAekPh"
   },
   "source": [
    "#### Fashion"
   ]
  },
  {
   "cell_type": "code",
   "execution_count": null,
   "metadata": {
    "id": "bdTsBLljeaBH"
   },
   "outputs": [],
   "source": [
    "clfFashion_desRad = SVC(kernel='rbf')"
   ]
  },
  {
   "cell_type": "code",
   "execution_count": null,
   "metadata": {
    "colab": {
     "base_uri": "https://localhost:8080/"
    },
    "id": "D_r-QYarY11M",
    "outputId": "1c2e1745-3e28-4917-cf66-b02c1defed7f"
   },
   "outputs": [
    {
     "data": {
      "text/plain": [
       "SVC()"
      ]
     },
     "execution_count": 11,
     "metadata": {},
     "output_type": "execute_result"
    }
   ],
   "source": [
    "clfFashion_desRad.fit(fashdf, fashion_tr_lab)"
   ]
  },
  {
   "cell_type": "code",
   "execution_count": null,
   "metadata": {
    "colab": {
     "base_uri": "https://localhost:8080/"
    },
    "id": "QXAccRigeaBH",
    "outputId": "ea5760fc-3e9d-4ecb-ac7c-447921f450fb"
   },
   "outputs": [
    {
     "name": "stdout",
     "output_type": "stream",
     "text": [
      "Accuracy:  0.223\n",
      "Recall:  [0.    0.143 0.052 0.    0.404 0.63  0.038 0.516 0.002 0.445]\n"
     ]
    }
   ],
   "source": [
    "y_pred_fashion_desRad = clfFashion_desRad.predict(fash_testdf)\n",
    "acc = accuracy_score(fashion_test_lab, y_pred_fashion_desRad)\n",
    "rec = recall_score(fashion_test_lab, y_pred_fashion_desRad, average = None)\n",
    "print('Accuracy: ', acc)\n",
    "print('Recall: ', rec)"
   ]
  },
  {
   "cell_type": "markdown",
   "metadata": {
    "id": "-HNdIBc5elwl"
   },
   "source": [
    "#### Emojis"
   ]
  },
  {
   "cell_type": "code",
   "execution_count": null,
   "metadata": {
    "id": "nmth2veweq82"
   },
   "outputs": [],
   "source": [
    "clfEmoji_desRad = SVC(kernel='rbf')"
   ]
  },
  {
   "cell_type": "code",
   "execution_count": null,
   "metadata": {
    "id": "A10QQp4Xeq83"
   },
   "outputs": [],
   "source": [
    "accs_desRad = []\n",
    "recs_desRad = []\n",
    "for train_index, test_index in kf.split(emodf):\n",
    "  clfEmoji_desRad.fit(emodf.iloc[train_index], y_emojis[train_index])\n",
    "  y_pred_emoji_desRad = clfEmoji_desRad.predict(emodf.iloc[test_index])\n",
    "  accs_desRad.append(accuracy_score(y_emojis[test_index], y_pred_emoji_desRad))\n",
    "  recs_desRad.append(recall_score(y_emojis[test_index], y_pred_emoji_desRad, average = None))"
   ]
  },
  {
   "cell_type": "code",
   "execution_count": null,
   "metadata": {
    "colab": {
     "base_uri": "https://localhost:8080/"
    },
    "id": "Jmq2M_Kteq83",
    "outputId": "41391080-6882-454d-a686-2a792d02922b"
   },
   "outputs": [
    {
     "data": {
      "text/plain": [
       "[0.3441295546558704,\n",
       " 0.29959514170040485,\n",
       " 0.31983805668016196,\n",
       " 0.3157894736842105,\n",
       " 0.30364372469635625,\n",
       " 0.3117408906882591,\n",
       " 0.2874493927125506,\n",
       " 0.29554655870445345,\n",
       " 0.3441295546558704,\n",
       " 0.30364372469635625]"
      ]
     },
     "execution_count": 24,
     "metadata": {},
     "output_type": "execute_result"
    }
   ],
   "source": [
    "accs_desRad"
   ]
  },
  {
   "cell_type": "code",
   "execution_count": null,
   "metadata": {
    "colab": {
     "base_uri": "https://localhost:8080/"
    },
    "id": "QMcjYHLmeq83",
    "outputId": "475d2a38-6585-40ac-9363-225204f7a41e"
   },
   "outputs": [
    {
     "data": {
      "text/plain": [
       "0.3125506072874494"
      ]
     },
     "execution_count": 25,
     "metadata": {},
     "output_type": "execute_result"
    }
   ],
   "source": [
    "np.mean(accs_desRad)"
   ]
  },
  {
   "cell_type": "code",
   "execution_count": null,
   "metadata": {
    "colab": {
     "base_uri": "https://localhost:8080/"
    },
    "id": "ewu1lx1Ceq83",
    "outputId": "c037bff7-9215-4bac-f9bf-f8b395968184"
   },
   "outputs": [
    {
     "data": {
      "text/plain": [
       "array([0.07017549, 0.54198027, 0.59188145, 0.23389001, 0.11461515])"
      ]
     },
     "execution_count": 26,
     "metadata": {},
     "output_type": "execute_result"
    }
   ],
   "source": [
    "recsA_desRad = np.mean(recs_desRad, axis = 0)\n",
    "recsA_desRad"
   ]
  },
  {
   "cell_type": "markdown",
   "metadata": {
    "id": "LVeVZ24VePYu"
   },
   "source": [
    "### Usando descriptores y un modelo de regresión clásico lineal con Navegability"
   ]
  },
  {
   "cell_type": "markdown",
   "metadata": {
    "id": "Z61bhTliRzvH"
   },
   "source": [
    "Como las clases de este conjunto de datos son ordinales, el problema puede tratarse como uno de regresión. Así, se ajustó un regresor KNN de 3 vecinos, teniendo como variable dependiente el nivel de navegabilidad. Las variables predictoras a usar son los descriptores, que almacenamos en un dataframe."
   ]
  },
  {
   "cell_type": "code",
   "execution_count": null,
   "metadata": {
    "id": "2fTIsSP5G2Rr"
   },
   "outputs": [],
   "source": [
    "navdf = pd.DataFrame(columns =['Navegabilidad', 'Valor_maximo', 'Promedio_1', 'Maximo_1', 'Varianza_1', 'Sesgo_1', 'Curtosis_1', 'Disimilaridad_1', 'Correlacion_1','Promedio_2', 'Maximo_2', 'Varianza_2', 'Sesgo_2', 'Curtosis_2', 'Promedio_3', 'Maximo_3', 'Varianza_3', 'Sesgo_3', 'Curtosis_3','Promedio_4', 'Maximo_4', 'Varianza_4', 'Sesgo_4', 'Curtosis_4'])\n"
   ]
  },
  {
   "cell_type": "code",
   "execution_count": null,
   "metadata": {
    "colab": {
     "base_uri": "https://localhost:8080/",
     "height": 49,
     "referenced_widgets": [
      "139339eee91d4f5298a8561a69eb9720",
      "8254971eb30f424d96bc6f3b6fca6647",
      "93a58b49a316428aa64bd27f6d7c8a16",
      "ad91c165145d44a5b29d016dc5dd30ce",
      "3b69ac14e32f44f781560bd2013ee204",
      "038c83e27a1d405fb8561d7f761e46b6",
      "d35553fec0414d6a9a3c48752d052374",
      "3a1fe02a2d6a4ed89a8c5392541b2d1a",
      "ebda2d8545b04d48a552abb81fc820cd",
      "4a475c9e06894c31a85ada9a42040b97",
      "7310536392cb463cb55a7d6851de81d8"
     ]
    },
    "id": "Q1jZBcCiHYZM",
    "outputId": "fed3b3cc-1e56-4693-cda5-23414097f2f6"
   },
   "outputs": [
    {
     "data": {
      "application/vnd.jupyter.widget-view+json": {
       "model_id": "139339eee91d4f5298a8561a69eb9720",
       "version_major": 2,
       "version_minor": 0
      },
      "text/plain": [
       "  0%|          | 0/849 [00:00<?, ?it/s]"
      ]
     },
     "metadata": {},
     "output_type": "display_data"
    }
   ],
   "source": [
    "for obs in trange(len(nav)):\n",
    "  new_row = []\n",
    "  new_row.append(nav[obs][0])\n",
    "  new_row.append(nav[obs][1])\n",
    "  for i in range(4):\n",
    "    new_row.append(nav[obs][i+2].mean())\n",
    "    new_row.append(nav[obs][i+2].max())\n",
    "    new_row.append(nav[obs][i+2].var())\n",
    "    new_row.append(skew(nav[obs][i+2].flatten()))\n",
    "    new_row.append(kurtosis(nav[obs][i+2].flatten()))\n",
    "    if i == 1:\n",
    "      tmp = (nav[obs][i+2]-nav[obs][i+2].min()).astype(int)\n",
    "      glcm = greycomatrix(tmp , distances=[5], angles=[0], levels=1024, symmetric=True, normed=True)\n",
    "      new_row.append(greycoprops(glcm, 'dissimilarity')[0, 0])\n",
    "      new_row.append(greycoprops(glcm, 'correlation')[0, 0])\n",
    "  navdf.loc[len(navdf)] = new_row\n"
   ]
  },
  {
   "cell_type": "code",
   "execution_count": null,
   "metadata": {
    "colab": {
     "base_uri": "https://localhost:8080/",
     "height": 439
    },
    "id": "1e5DmiTKP1aY",
    "outputId": "c277b024-f7ab-4bd1-cc27-e98e58d74623"
   },
   "outputs": [
    {
     "data": {
      "text/html": [
       "<div>\n",
       "<style scoped>\n",
       "    .dataframe tbody tr th:only-of-type {\n",
       "        vertical-align: middle;\n",
       "    }\n",
       "\n",
       "    .dataframe tbody tr th {\n",
       "        vertical-align: top;\n",
       "    }\n",
       "\n",
       "    .dataframe thead th {\n",
       "        text-align: right;\n",
       "    }\n",
       "</style>\n",
       "<table border=\"1\" class=\"dataframe\">\n",
       "  <thead>\n",
       "    <tr style=\"text-align: right;\">\n",
       "      <th></th>\n",
       "      <th>Navegabilidad</th>\n",
       "      <th>Valor_maximo</th>\n",
       "      <th>Promedio_1</th>\n",
       "      <th>Maximo_1</th>\n",
       "      <th>Varianza_1</th>\n",
       "      <th>Sesgo_1</th>\n",
       "      <th>Curtosis_1</th>\n",
       "      <th>Disimilaridad_1</th>\n",
       "      <th>Correlacion_1</th>\n",
       "      <th>Promedio_2</th>\n",
       "      <th>Maximo_2</th>\n",
       "      <th>Varianza_2</th>\n",
       "      <th>Sesgo_2</th>\n",
       "      <th>Curtosis_2</th>\n",
       "      <th>Promedio_3</th>\n",
       "      <th>Maximo_3</th>\n",
       "      <th>Varianza_3</th>\n",
       "      <th>Sesgo_3</th>\n",
       "      <th>Curtosis_3</th>\n",
       "      <th>Promedio_4</th>\n",
       "      <th>Maximo_4</th>\n",
       "      <th>Varianza_4</th>\n",
       "      <th>Sesgo_4</th>\n",
       "      <th>Curtosis_4</th>\n",
       "    </tr>\n",
       "  </thead>\n",
       "  <tbody>\n",
       "    <tr>\n",
       "      <th>0</th>\n",
       "      <td>1.0</td>\n",
       "      <td>124.81</td>\n",
       "      <td>63.099059</td>\n",
       "      <td>80.106997</td>\n",
       "      <td>92.669347</td>\n",
       "      <td>0.019764</td>\n",
       "      <td>-1.266744</td>\n",
       "      <td>2.186973</td>\n",
       "      <td>4.410643</td>\n",
       "      <td>1.024927</td>\n",
       "      <td>-0.129390</td>\n",
       "      <td>-0.934882</td>\n",
       "      <td>1.243333</td>\n",
       "      <td>0.061970</td>\n",
       "      <td>0.141823</td>\n",
       "      <td>4.844097</td>\n",
       "      <td>0.292197</td>\n",
       "      <td>4.797127</td>\n",
       "      <td>26.790544</td>\n",
       "      <td>1.630983</td>\n",
       "      <td>10.779272</td>\n",
       "      <td>8.577229</td>\n",
       "      <td>1.714322</td>\n",
       "      <td>1.708571</td>\n",
       "    </tr>\n",
       "    <tr>\n",
       "      <th>1</th>\n",
       "      <td>1.0</td>\n",
       "      <td>124.81</td>\n",
       "      <td>99.453294</td>\n",
       "      <td>113.058135</td>\n",
       "      <td>44.811539</td>\n",
       "      <td>-0.462523</td>\n",
       "      <td>-0.370325</td>\n",
       "      <td>1.816601</td>\n",
       "      <td>4.796872</td>\n",
       "      <td>0.737577</td>\n",
       "      <td>0.961884</td>\n",
       "      <td>1.738542</td>\n",
       "      <td>0.716667</td>\n",
       "      <td>-0.064027</td>\n",
       "      <td>0.213717</td>\n",
       "      <td>5.762690</td>\n",
       "      <td>0.756701</td>\n",
       "      <td>4.536075</td>\n",
       "      <td>20.669289</td>\n",
       "      <td>9.052902</td>\n",
       "      <td>22.196431</td>\n",
       "      <td>34.362672</td>\n",
       "      <td>-0.055559</td>\n",
       "      <td>-0.871881</td>\n",
       "    </tr>\n",
       "    <tr>\n",
       "      <th>2</th>\n",
       "      <td>2.0</td>\n",
       "      <td>124.81</td>\n",
       "      <td>56.945795</td>\n",
       "      <td>68.061221</td>\n",
       "      <td>49.407381</td>\n",
       "      <td>-0.261596</td>\n",
       "      <td>-1.033085</td>\n",
       "      <td>1.552972</td>\n",
       "      <td>3.272865</td>\n",
       "      <td>0.298558</td>\n",
       "      <td>0.303162</td>\n",
       "      <td>0.851488</td>\n",
       "      <td>0.390000</td>\n",
       "      <td>0.163290</td>\n",
       "      <td>2.498995</td>\n",
       "      <td>13.885132</td>\n",
       "      <td>14.450581</td>\n",
       "      <td>1.365751</td>\n",
       "      <td>0.595322</td>\n",
       "      <td>0.929357</td>\n",
       "      <td>6.077656</td>\n",
       "      <td>2.791653</td>\n",
       "      <td>1.617718</td>\n",
       "      <td>1.241940</td>\n",
       "    </tr>\n",
       "    <tr>\n",
       "      <th>3</th>\n",
       "      <td>1.0</td>\n",
       "      <td>124.81</td>\n",
       "      <td>96.545285</td>\n",
       "      <td>113.487168</td>\n",
       "      <td>144.683633</td>\n",
       "      <td>-0.346455</td>\n",
       "      <td>-1.173588</td>\n",
       "      <td>2.416150</td>\n",
       "      <td>5.106043</td>\n",
       "      <td>1.147192</td>\n",
       "      <td>0.023358</td>\n",
       "      <td>-0.758841</td>\n",
       "      <td>1.436667</td>\n",
       "      <td>-0.141662</td>\n",
       "      <td>1.027062</td>\n",
       "      <td>12.330952</td>\n",
       "      <td>7.091965</td>\n",
       "      <td>2.704944</td>\n",
       "      <td>6.299525</td>\n",
       "      <td>8.696092</td>\n",
       "      <td>22.625464</td>\n",
       "      <td>66.604375</td>\n",
       "      <td>0.223827</td>\n",
       "      <td>-1.535839</td>\n",
       "    </tr>\n",
       "    <tr>\n",
       "      <th>4</th>\n",
       "      <td>1.0</td>\n",
       "      <td>124.81</td>\n",
       "      <td>96.290995</td>\n",
       "      <td>109.079521</td>\n",
       "      <td>56.771252</td>\n",
       "      <td>-0.252860</td>\n",
       "      <td>-1.039188</td>\n",
       "      <td>1.868154</td>\n",
       "      <td>4.875915</td>\n",
       "      <td>1.100352</td>\n",
       "      <td>0.596716</td>\n",
       "      <td>-0.537479</td>\n",
       "      <td>1.313333</td>\n",
       "      <td>-0.005451</td>\n",
       "      <td>0.692666</td>\n",
       "      <td>10.120684</td>\n",
       "      <td>3.137352</td>\n",
       "      <td>3.006618</td>\n",
       "      <td>8.894896</td>\n",
       "      <td>1.402263</td>\n",
       "      <td>8.742954</td>\n",
       "      <td>5.290531</td>\n",
       "      <td>1.545937</td>\n",
       "      <td>1.176913</td>\n",
       "    </tr>\n",
       "    <tr>\n",
       "      <th>...</th>\n",
       "      <td>...</td>\n",
       "      <td>...</td>\n",
       "      <td>...</td>\n",
       "      <td>...</td>\n",
       "      <td>...</td>\n",
       "      <td>...</td>\n",
       "      <td>...</td>\n",
       "      <td>...</td>\n",
       "      <td>...</td>\n",
       "      <td>...</td>\n",
       "      <td>...</td>\n",
       "      <td>...</td>\n",
       "      <td>...</td>\n",
       "      <td>...</td>\n",
       "      <td>...</td>\n",
       "      <td>...</td>\n",
       "      <td>...</td>\n",
       "      <td>...</td>\n",
       "      <td>...</td>\n",
       "      <td>...</td>\n",
       "      <td>...</td>\n",
       "      <td>...</td>\n",
       "      <td>...</td>\n",
       "      <td>...</td>\n",
       "    </tr>\n",
       "    <tr>\n",
       "      <th>844</th>\n",
       "      <td>4.0</td>\n",
       "      <td>385.56</td>\n",
       "      <td>363.154837</td>\n",
       "      <td>365.776621</td>\n",
       "      <td>0.951538</td>\n",
       "      <td>-0.548345</td>\n",
       "      <td>0.495836</td>\n",
       "      <td>0.252592</td>\n",
       "      <td>0.726708</td>\n",
       "      <td>0.024668</td>\n",
       "      <td>0.855385</td>\n",
       "      <td>-0.073594</td>\n",
       "      <td>0.000000</td>\n",
       "      <td>1.000000</td>\n",
       "      <td>0.011723</td>\n",
       "      <td>0.358164</td>\n",
       "      <td>0.001961</td>\n",
       "      <td>4.675450</td>\n",
       "      <td>23.596816</td>\n",
       "      <td>0.100547</td>\n",
       "      <td>1.886309</td>\n",
       "      <td>0.072990</td>\n",
       "      <td>3.510237</td>\n",
       "      <td>13.159878</td>\n",
       "    </tr>\n",
       "    <tr>\n",
       "      <th>845</th>\n",
       "      <td>4.0</td>\n",
       "      <td>385.56</td>\n",
       "      <td>306.087917</td>\n",
       "      <td>308.530098</td>\n",
       "      <td>1.338021</td>\n",
       "      <td>0.150018</td>\n",
       "      <td>-0.670949</td>\n",
       "      <td>0.264917</td>\n",
       "      <td>0.840152</td>\n",
       "      <td>0.017659</td>\n",
       "      <td>1.142501</td>\n",
       "      <td>1.822501</td>\n",
       "      <td>0.000000</td>\n",
       "      <td>1.000000</td>\n",
       "      <td>0.002465</td>\n",
       "      <td>0.189863</td>\n",
       "      <td>0.000281</td>\n",
       "      <td>8.598207</td>\n",
       "      <td>82.870751</td>\n",
       "      <td>0.002681</td>\n",
       "      <td>0.205354</td>\n",
       "      <td>0.000298</td>\n",
       "      <td>8.416542</td>\n",
       "      <td>78.962465</td>\n",
       "    </tr>\n",
       "    <tr>\n",
       "      <th>846</th>\n",
       "      <td>4.0</td>\n",
       "      <td>385.56</td>\n",
       "      <td>291.465587</td>\n",
       "      <td>296.164082</td>\n",
       "      <td>4.467064</td>\n",
       "      <td>-0.069998</td>\n",
       "      <td>-0.597375</td>\n",
       "      <td>0.391972</td>\n",
       "      <td>0.770668</td>\n",
       "      <td>0.018986</td>\n",
       "      <td>0.134659</td>\n",
       "      <td>-0.291454</td>\n",
       "      <td>0.000000</td>\n",
       "      <td>1.000000</td>\n",
       "      <td>0.001311</td>\n",
       "      <td>0.192825</td>\n",
       "      <td>0.000196</td>\n",
       "      <td>11.573879</td>\n",
       "      <td>138.934631</td>\n",
       "      <td>0.005512</td>\n",
       "      <td>0.439170</td>\n",
       "      <td>0.001545</td>\n",
       "      <td>8.290757</td>\n",
       "      <td>72.709255</td>\n",
       "    </tr>\n",
       "    <tr>\n",
       "      <th>847</th>\n",
       "      <td>4.0</td>\n",
       "      <td>385.56</td>\n",
       "      <td>279.262810</td>\n",
       "      <td>282.840996</td>\n",
       "      <td>1.201961</td>\n",
       "      <td>0.058604</td>\n",
       "      <td>-0.166869</td>\n",
       "      <td>0.345129</td>\n",
       "      <td>1.097548</td>\n",
       "      <td>0.032992</td>\n",
       "      <td>1.076262</td>\n",
       "      <td>1.782806</td>\n",
       "      <td>0.020000</td>\n",
       "      <td>-0.010101</td>\n",
       "      <td>0.007136</td>\n",
       "      <td>0.622971</td>\n",
       "      <td>0.002104</td>\n",
       "      <td>9.060010</td>\n",
       "      <td>97.193228</td>\n",
       "      <td>0.038506</td>\n",
       "      <td>1.760806</td>\n",
       "      <td>0.027337</td>\n",
       "      <td>6.438416</td>\n",
       "      <td>48.913872</td>\n",
       "    </tr>\n",
       "    <tr>\n",
       "      <th>848</th>\n",
       "      <td>4.0</td>\n",
       "      <td>385.56</td>\n",
       "      <td>157.523969</td>\n",
       "      <td>161.571343</td>\n",
       "      <td>3.731407</td>\n",
       "      <td>0.086042</td>\n",
       "      <td>-0.945433</td>\n",
       "      <td>0.435823</td>\n",
       "      <td>1.314185</td>\n",
       "      <td>0.057632</td>\n",
       "      <td>0.720553</td>\n",
       "      <td>0.364623</td>\n",
       "      <td>0.036667</td>\n",
       "      <td>-0.018676</td>\n",
       "      <td>0.026309</td>\n",
       "      <td>1.245842</td>\n",
       "      <td>0.013464</td>\n",
       "      <td>6.354752</td>\n",
       "      <td>47.667478</td>\n",
       "      <td>0.022567</td>\n",
       "      <td>1.971733</td>\n",
       "      <td>0.015354</td>\n",
       "      <td>11.039044</td>\n",
       "      <td>156.056040</td>\n",
       "    </tr>\n",
       "  </tbody>\n",
       "</table>\n",
       "<p>849 rows × 24 columns</p>\n",
       "</div>"
      ],
      "text/plain": [
       "     Navegabilidad  Valor_maximo  Promedio_1  ...  Varianza_4    Sesgo_4  Curtosis_4\n",
       "0              1.0        124.81   63.099059  ...    8.577229   1.714322    1.708571\n",
       "1              1.0        124.81   99.453294  ...   34.362672  -0.055559   -0.871881\n",
       "2              2.0        124.81   56.945795  ...    2.791653   1.617718    1.241940\n",
       "3              1.0        124.81   96.545285  ...   66.604375   0.223827   -1.535839\n",
       "4              1.0        124.81   96.290995  ...    5.290531   1.545937    1.176913\n",
       "..             ...           ...         ...  ...         ...        ...         ...\n",
       "844            4.0        385.56  363.154837  ...    0.072990   3.510237   13.159878\n",
       "845            4.0        385.56  306.087917  ...    0.000298   8.416542   78.962465\n",
       "846            4.0        385.56  291.465587  ...    0.001545   8.290757   72.709255\n",
       "847            4.0        385.56  279.262810  ...    0.027337   6.438416   48.913872\n",
       "848            4.0        385.56  157.523969  ...    0.015354  11.039044  156.056040\n",
       "\n",
       "[849 rows x 24 columns]"
      ]
     },
     "execution_count": 12,
     "metadata": {},
     "output_type": "execute_result"
    }
   ],
   "source": [
    "navdf"
   ]
  },
  {
   "cell_type": "code",
   "execution_count": null,
   "metadata": {
    "id": "0opWT24IiCHu"
   },
   "outputs": [],
   "source": [
    "regNav = KNeighborsRegressor(n_neighbors=3)"
   ]
  },
  {
   "cell_type": "code",
   "execution_count": null,
   "metadata": {
    "id": "aZE8JO64Qrj8"
   },
   "outputs": [],
   "source": [
    "kf = KFold(n_splits=10, shuffle = True)"
   ]
  },
  {
   "cell_type": "code",
   "execution_count": null,
   "metadata": {
    "colab": {
     "base_uri": "https://localhost:8080/"
    },
    "id": "a-0JXeFHRBve",
    "outputId": "3ab44028-2421-4822-8050-39a708061e94"
   },
   "outputs": [
    {
     "name": "stdout",
     "output_type": "stream",
     "text": [
      "MSE: 0.625732959850607\n"
     ]
    }
   ],
   "source": [
    "x=navdf.iloc[:,1:]\n",
    "y=navdf[\"Navegabilidad\"]\n",
    "\n",
    "MSE = []\n",
    "\n",
    "for train_index, test_index in kf.split(navdf):\n",
    "  regNav.fit(x.iloc[train_index], y[train_index])\n",
    "  y_pred_nav = regNav.predict(x.iloc[test_index])\n",
    "  MSE.append(mean_squared_error(y[test_index], y_pred_nav))\n",
    "print('MSE:',np.mean(MSE))"
   ]
  },
  {
   "cell_type": "markdown",
   "metadata": {
    "id": "max8GmD1jjaA"
   },
   "source": [
    "## Clasificación con modelos perceptrón multicapa"
   ]
  },
  {
   "cell_type": "markdown",
   "metadata": {
    "id": "sS3vzHPOkJRi"
   },
   "source": [
    "### Usando los pixeles de las imágenes"
   ]
  },
  {
   "cell_type": "markdown",
   "metadata": {
    "id": "Sq7xMT-ZR7Wc"
   },
   "source": [
    "El tipo de red neuronal que se ajustó fue un modelo perceptrón multicapa, estos modelos fueron entrenados con cada pixel de las imágenes, para los datos de Fashion se emplearon 2 capas ocultas con 8 neuronas cada una, mientras que para los datos de emoji se emplearon 2 capas ocultas y 15 neuronas por capa. La función de activación de las capas ocultas es la función ReLu mientras que la de la capa de salida es la función softmax."
   ]
  },
  {
   "cell_type": "markdown",
   "metadata": {
    "id": "5XfRvbW_kSPW"
   },
   "source": [
    "#### Fashion"
   ]
  },
  {
   "cell_type": "code",
   "execution_count": null,
   "metadata": {
    "id": "uNvzk3fvbZAz"
   },
   "outputs": [],
   "source": [
    "(fashion_tr_im,fashion_tr_lab),(fashion_test_im,fashion_test_lab) = fashion_mnist.load_data()\n",
    "\n",
    "fashion_tr_im_rz = []\n",
    "fashion_test_im_rz = []\n",
    "for i in range(fashion_tr_im.shape[0]):\n",
    "  fashion_tr_im_rz.append(fashion_tr_im[i].reshape(784))\n",
    "for i in range(fashion_test_im.shape[0]):\n",
    "  fashion_test_im_rz.append(fashion_test_im[i].reshape(784))"
   ]
  },
  {
   "cell_type": "code",
   "execution_count": null,
   "metadata": {
    "id": "5NrlNgk1SeRw"
   },
   "outputs": [],
   "source": [
    "n_features = 784\n",
    "\n",
    "fashion_tr_lab= pd.get_dummies(fashion_tr_lab).to_numpy()\n",
    "\n",
    "clf = Sequential()\n",
    "clf.add(Dense(8, input_dim=n_features, activation='relu'))\n",
    "clf.add(Dense(8, activation='relu'))\n",
    "clf.add(Dense(10, activation='softmax')) \n",
    "\n",
    "clf.compile(loss='categorical_crossentropy', optimizer='adam', metrics= ['accuracy'])\n",
    " \n",
    "clf.fit(np.array(fashion_tr_im_rz), np.array(fashion_tr_lab), epochs=100, batch_size=5, verbose = 0)\n",
    "\n",
    "y_pred = np.argmax(clf.predict(np.array(fashion_test_im_rz)), axis = -1)"
   ]
  },
  {
   "cell_type": "code",
   "execution_count": null,
   "metadata": {
    "colab": {
     "base_uri": "https://localhost:8080/"
    },
    "id": "FOAAl2ZQuhQe",
    "outputId": "558b86cd-ed1b-47a3-9cfc-61895558332e"
   },
   "outputs": [
    {
     "data": {
      "text/plain": [
       "array([2, 5, 7, 8, 9])"
      ]
     },
     "execution_count": 72,
     "metadata": {},
     "output_type": "execute_result"
    }
   ],
   "source": [
    "np.unique(y_pred)"
   ]
  },
  {
   "cell_type": "code",
   "execution_count": null,
   "metadata": {
    "colab": {
     "base_uri": "https://localhost:8080/"
    },
    "id": "fRo3W2ZOcPLI",
    "outputId": "e7094fc8-6d66-4581-beac-33d8237e5f98"
   },
   "outputs": [
    {
     "name": "stdout",
     "output_type": "stream",
     "text": [
      "ACC:  0.4719\n",
      "Recall: [0.    0.    0.98  0.    0.    0.906 0.    0.921 0.963 0.949]\n"
     ]
    }
   ],
   "source": [
    "print('ACC: ', accuracy_score(fashion_test_lab, y_pred))\n",
    "print('Recall:', recall_score(fashion_test_lab, y_pred, average =None))"
   ]
  },
  {
   "cell_type": "markdown",
   "metadata": {
    "id": "3h0O5mtVkTwB"
   },
   "source": [
    "#### Emojis"
   ]
  },
  {
   "cell_type": "code",
   "execution_count": null,
   "metadata": {
    "colab": {
     "base_uri": "https://localhost:8080/"
    },
    "id": "vmjFZ4aXr5Hm",
    "outputId": "94fa92fb-ea2a-4a14-f9ad-e1895098823c"
   },
   "outputs": [
    {
     "name": "stdout",
     "output_type": "stream",
     "text": [
      "ACC =  0.8133603238866398\n"
     ]
    }
   ],
   "source": [
    "kf = KFold(n_splits=5, shuffle = True)\n",
    "\n",
    "accs = []\n",
    "recs = []\n",
    "x_emojis = emojis[:,1:]\n",
    "y_emojis = emojis[:,0]\n",
    "\n",
    "for train_index, test_index in kf.split(x_emojis):\n",
    "\n",
    "    x_train = x_emojis[train_index]\n",
    "    y_train = y_emojis[train_index]\n",
    "    y_train = pd.get_dummies(y_train).to_numpy()  \n",
    "    \n",
    "    clf = Sequential()\n",
    "    clf.add(Dense(15, input_dim=1024, activation='relu'))\n",
    "    clf.add(Dense(15, activation='relu'))\n",
    "    clf.add(Dense(5, activation='softmax'))\n",
    "    clf.compile(loss='categorical_crossentropy', optimizer='adam')\n",
    "    clf.fit(x_train, y_train, epochs=100, batch_size=3, verbose=0)    \n",
    "\n",
    "    x_test = x_emojis[test_index, :]\n",
    "    y_test = y_emojis[test_index]\n",
    "    y_pred = np.argmax(clf.predict(x_test), axis = -1) +1\n",
    "\n",
    "    accs.append(accuracy_score(y_test, y_pred))\n",
    "    recs.append(recall_score(y_test, y_pred, average=None))\n",
    "\n",
    "acc = np.mean(accs)\n",
    "print('ACC = ', acc)\n",
    "\n",
    "recall = np.mean(recs, axis= 0)"
   ]
  },
  {
   "cell_type": "code",
   "execution_count": null,
   "metadata": {
    "colab": {
     "base_uri": "https://localhost:8080/"
    },
    "id": "6hjsU2-ObNmO",
    "outputId": "8457051e-cb64-4a20-c85e-d8099b1d2d9e"
   },
   "outputs": [
    {
     "name": "stdout",
     "output_type": "stream",
     "text": [
      "Recall [0.70876834 0.83245446 0.99405767 0.68172715 0.83451891]\n"
     ]
    }
   ],
   "source": [
    "print(\"Recall\", recall)"
   ]
  },
  {
   "cell_type": "markdown",
   "metadata": {
    "id": "cqdllk1gee44"
   },
   "source": [
    "### Usando los descriptores de las imágenes"
   ]
  },
  {
   "cell_type": "markdown",
   "metadata": {
    "id": "1H6ayFtpShL5"
   },
   "source": [
    "El último modelo de clasificación que se realizó fue utilizando como datos de entrada los descriptores de las imágenes, para entrenar las redes se emplearon 2 capas ocultas, con 8 neuronas por capa para los datos de Fashion y 15 neuronas por capa para los datos de emojis. La función de activación de las capas ocultas es la función ReLu mientras que la de la capa de salida es la función softmax."
   ]
  },
  {
   "cell_type": "markdown",
   "metadata": {
    "id": "ajP9_9lOp8An"
   },
   "source": [
    "#### Fashion"
   ]
  },
  {
   "cell_type": "code",
   "execution_count": null,
   "metadata": {
    "id": "WWTLYAn7wwvO"
   },
   "outputs": [],
   "source": [
    "(fashion_tr_im,fashion_tr_lab),(fashion_test_im,fashion_test_lab) = fashion_mnist.load_data()"
   ]
  },
  {
   "cell_type": "code",
   "execution_count": null,
   "metadata": {
    "id": "MuYn_0i4Sk7i"
   },
   "outputs": [],
   "source": [
    "n_features = len(fashdf.columns)\n",
    "\n",
    "fashion_tr_lab= pd.get_dummies(fashion_tr_lab).to_numpy()\n",
    "\n",
    "clf = Sequential()\n",
    "clf.add(Dense(8, input_dim=n_features, activation='relu'))\n",
    "clf.add(Dense(8, activation='relu'))\n",
    "clf.add(Dense(10, activation='softmax')) \n",
    "\n",
    "clf.compile(loss='categorical_crossentropy', optimizer='adam')\n",
    "\n",
    "clf.fit(fashdf, np.array(fashion_tr_lab), epochs=100, batch_size=5, verbose = 0)\n",
    "\n",
    "y_pred = np.argmax(clf.predict(fash_testdf), axis = -1)"
   ]
  },
  {
   "cell_type": "code",
   "execution_count": null,
   "metadata": {
    "colab": {
     "base_uri": "https://localhost:8080/"
    },
    "id": "HaaBgIcYp1d6",
    "outputId": "725724d8-5c5f-45ea-f9be-a35e1614af34"
   },
   "outputs": [
    {
     "name": "stdout",
     "output_type": "stream",
     "text": [
      "ACC:  0.4963\n",
      "Recall: [0.626 0.887 0.295 0.402 0.    0.754 0.162 0.815 0.445 0.577]\n"
     ]
    }
   ],
   "source": [
    "print('ACC: ', accuracy_score(fashion_test_lab, y_pred))\n",
    "print('Recall:', recall_score(fashion_test_lab, y_pred, average =None))"
   ]
  },
  {
   "cell_type": "markdown",
   "metadata": {
    "id": "Io1v3E43p-4v"
   },
   "source": [
    "#### Emoji"
   ]
  },
  {
   "cell_type": "code",
   "execution_count": null,
   "metadata": {
    "colab": {
     "base_uri": "https://localhost:8080/"
    },
    "id": "oSSBEMGcqEil",
    "outputId": "4f56d675-3efa-4258-84c1-96a9be25ea1d"
   },
   "outputs": [
    {
     "name": "stdout",
     "output_type": "stream",
     "text": [
      "ACC =  0.3417004048582996\n"
     ]
    }
   ],
   "source": [
    "kf = KFold(n_splits=5, shuffle = True)\n",
    "\n",
    "accs = []\n",
    "recs = []\n",
    "x_emojis = emodf\n",
    "y_emojis = emojis[:,0]\n",
    "\n",
    "features = emodf.columns\n",
    "n_features = len(features)\n",
    "\n",
    "for train_index, test_index in kf.split(x_emojis):\n",
    "\n",
    "    x_train = emodf.iloc[train_index]\n",
    "    y_train = y_emojis[train_index]\n",
    "    y_train = pd.get_dummies(y_train).to_numpy()  \n",
    "    \n",
    "    clf = Sequential()\n",
    "    clf.add(Dense(15, input_dim=n_features, activation='relu'))\n",
    "    clf.add(Dense(15, activation='relu'))\n",
    "    clf.add(Dense(5, activation='softmax'))\n",
    "    clf.compile(loss='categorical_crossentropy', optimizer='adam')\n",
    "    clf.fit(x_train, y_train, epochs=100, batch_size=3, verbose=0)    \n",
    "\n",
    "    x_test = emodf.iloc[test_index, :]\n",
    "    y_test = y_emojis[test_index]\n",
    "    y_pred = np.argmax(clf.predict(x_test), axis = -1) +1\n",
    "\n",
    "    accs.append(accuracy_score(y_test, y_pred))\n",
    "    recs.append(recall_score(y_test, y_pred, average=None))\n",
    "\n",
    "acc = np.mean(accs)\n",
    "print('ACC = ', acc)\n",
    "\n",
    "recall = np.mean(recs, axis= 0)"
   ]
  },
  {
   "cell_type": "code",
   "execution_count": null,
   "metadata": {
    "colab": {
     "base_uri": "https://localhost:8080/"
    },
    "id": "qty6lyOY9xqQ",
    "outputId": "87a2a953-9a4d-4c73-84be-86aa98114f91"
   },
   "outputs": [
    {
     "name": "stdout",
     "output_type": "stream",
     "text": [
      "Recall [0.23211087 0.36764032 0.71569646 0.18852025 0.20248154]\n"
     ]
    }
   ],
   "source": [
    "print('Recall', recall)"
   ]
  },
  {
   "cell_type": "markdown",
   "metadata": {
    "id": "o-THiVYNeq3c"
   },
   "source": [
    "#### Navegability"
   ]
  },
  {
   "cell_type": "markdown",
   "metadata": {
    "id": "mY_Gnme3SuMp"
   },
   "source": [
    "Para finalizar, para el tercer conjunto de datos se modeló con  6 capas con 15 neuronas por capa. En esta red neuronal se añadieron capas con el propósito de obtener mejores resultados que el modelo de regresión tradicional KNN. En las capas ocultas se utilizaron funciones de activación ReLu mientras que la capa de salida tiene una función de activación lineal.\n"
   ]
  },
  {
   "cell_type": "code",
   "execution_count": null,
   "metadata": {
    "id": "hfqCP93Ueti6"
   },
   "outputs": [],
   "source": [
    "kf = KFold(n_splits=5, shuffle = True)\n",
    "\n",
    "mse = 0\n",
    "\n",
    "x = navdf.iloc[:,1:]\n",
    "y = navdf['Navegabilidad']\n",
    "\n",
    "n_features = len(x.columns)\n",
    "for train_index, test_index in kf.split(x):\n",
    "\n",
    "    x_train = x.iloc[train_index,:]\n",
    "    y_train = y.iloc[train_index]\n",
    "\n",
    "    clf = Sequential()\n",
    "    clf.add(Dense(15, input_dim=n_features, activation='relu'))\n",
    "    clf.add(Dense(15, activation='relu'))\n",
    "    clf.add(Dense(15, activation='relu'))\n",
    "    clf.add(Dense(15, activation='relu'))\n",
    "    clf.add(Dense(15, activation='relu'))\n",
    "    clf.add(Dense(15, activation='relu'))\n",
    "    clf.add(Dense(1, activation='linear'))\n",
    "    clf.compile(loss='MeanSquaredError', optimizer='adam')\n",
    "    clf.fit(x_train, y_train, epochs=100, batch_size=5, verbose=0)\n",
    "\n",
    "    x_test = x.iloc[test_index, :]\n",
    "    y_test = y.iloc[test_index]\n",
    "    y_pred = clf.predict(x_test) \n",
    "\n",
    "    mse += mean_squared_error(y_test, y_pred)"
   ]
  },
  {
   "cell_type": "code",
   "execution_count": null,
   "metadata": {
    "colab": {
     "base_uri": "https://localhost:8080/"
    },
    "id": "5O9ivVxXF-eU",
    "outputId": "b3323842-b51f-4862-ca9d-7b48d1782ad7"
   },
   "outputs": [
    {
     "name": "stdout",
     "output_type": "stream",
     "text": [
      "MSE =  0.40251182404460356\n"
     ]
    }
   ],
   "source": [
    "mse = mse/5\n",
    "print('MSE = ', mse)"
   ]
  },
  {
   "cell_type": "markdown",
   "metadata": {
    "id": "GvPKcohod--n"
   },
   "source": [
    "## Resumen de los resultados"
   ]
  },
  {
   "cell_type": "markdown",
   "metadata": {
    "id": "cOKfyVo_mr_z"
   },
   "source": [
    "La siguiente tabla muestra el resumen de las métricas por cada modelo de clasificación para el conjunto de datos Fashion."
   ]
  },
  {
   "cell_type": "markdown",
   "metadata": {
    "id": "rJpq38wJ3Z6H"
   },
   "source": [
    "![picture](https://drive.google.com/uc?id=1Us2oQJHKpXTw3SAQI1_K2MTj4jDk0HMV)"
   ]
  },
  {
   "cell_type": "markdown",
   "metadata": {
    "id": "w7c84strm6VR"
   },
   "source": [
    "Análogamente, la tabla de abajo presenta el resumen del desempeño de los modelos para el conjunto Emojis."
   ]
  },
  {
   "cell_type": "markdown",
   "metadata": {
    "id": "_AI01ReL6DDp"
   },
   "source": [
    "![picture](https://drive.google.com/uc?id=1nHFwdAMiFiUg8t9llc0QynNpYZbdmDU7)"
   ]
  },
  {
   "cell_type": "markdown",
   "metadata": {
    "id": "iVV8eqHi6uG_"
   },
   "source": [
    "Para finalizar, esta tabla contiene los errores cuadrados medios de los dos modelos entrenados para el conjunto Navegability."
   ]
  },
  {
   "cell_type": "markdown",
   "metadata": {
    "id": "GO-TuIaQ6b4G"
   },
   "source": [
    "![picture](https://drive.google.com/uc?id=1eQGwvP6a_Di6mFRq2-AYQk2SEmr5ZiC2)"
   ]
  }
 ],
 "metadata": {
  "colab": {
   "collapsed_sections": [],
   "name": "Blog Clasificación de imágenes con métodos clásicos y redes neuronales.ipynb",
   "provenance": []
  },
  "kernelspec": {
   "display_name": "Python 3",
   "language": "python",
   "name": "python3"
  },
  "language_info": {
   "codemirror_mode": {
    "name": "ipython",
    "version": 3
   },
   "file_extension": ".py",
   "mimetype": "text/x-python",
   "name": "python",
   "nbconvert_exporter": "python",
   "pygments_lexer": "ipython3",
   "version": "3.8.5"
  },
  "widgets": {
   "application/vnd.jupyter.widget-state+json": {
    "038c83e27a1d405fb8561d7f761e46b6": {
     "model_module": "@jupyter-widgets/controls",
     "model_module_version": "1.5.0",
     "model_name": "DescriptionStyleModel",
     "state": {
      "_model_module": "@jupyter-widgets/controls",
      "_model_module_version": "1.5.0",
      "_model_name": "DescriptionStyleModel",
      "_view_count": null,
      "_view_module": "@jupyter-widgets/base",
      "_view_module_version": "1.2.0",
      "_view_name": "StyleView",
      "description_width": ""
     }
    },
    "04d201e9088a4adca5dd7f198e9b5300": {
     "model_module": "@jupyter-widgets/controls",
     "model_module_version": "1.5.0",
     "model_name": "HTMLModel",
     "state": {
      "_dom_classes": [],
      "_model_module": "@jupyter-widgets/controls",
      "_model_module_version": "1.5.0",
      "_model_name": "HTMLModel",
      "_view_count": null,
      "_view_module": "@jupyter-widgets/controls",
      "_view_module_version": "1.5.0",
      "_view_name": "HTMLView",
      "description": "",
      "description_tooltip": null,
      "layout": "IPY_MODEL_728b73ddd16d42e8b0e091620540b434",
      "placeholder": "​",
      "style": "IPY_MODEL_299f551abe754a839c8eb5e86b424d7a",
      "value": "100%"
     }
    },
    "0993a5a3c01b48f1aa1258777cfed8a7": {
     "model_module": "@jupyter-widgets/controls",
     "model_module_version": "1.5.0",
     "model_name": "HTMLModel",
     "state": {
      "_dom_classes": [],
      "_model_module": "@jupyter-widgets/controls",
      "_model_module_version": "1.5.0",
      "_model_name": "HTMLModel",
      "_view_count": null,
      "_view_module": "@jupyter-widgets/controls",
      "_view_module_version": "1.5.0",
      "_view_name": "HTMLView",
      "description": "",
      "description_tooltip": null,
      "layout": "IPY_MODEL_265a84c2bb984319980cdb602e6e8e42",
      "placeholder": "​",
      "style": "IPY_MODEL_a606f43ad5d64dfc8271c2671e3827e4",
      "value": " 10000/10000 [04:39&lt;00:00, 35.46it/s]"
     }
    },
    "104a7371c1b946558d2412acc7c9677f": {
     "model_module": "@jupyter-widgets/base",
     "model_module_version": "1.2.0",
     "model_name": "LayoutModel",
     "state": {
      "_model_module": "@jupyter-widgets/base",
      "_model_module_version": "1.2.0",
      "_model_name": "LayoutModel",
      "_view_count": null,
      "_view_module": "@jupyter-widgets/base",
      "_view_module_version": "1.2.0",
      "_view_name": "LayoutView",
      "align_content": null,
      "align_items": null,
      "align_self": null,
      "border": null,
      "bottom": null,
      "display": null,
      "flex": null,
      "flex_flow": null,
      "grid_area": null,
      "grid_auto_columns": null,
      "grid_auto_flow": null,
      "grid_auto_rows": null,
      "grid_column": null,
      "grid_gap": null,
      "grid_row": null,
      "grid_template_areas": null,
      "grid_template_columns": null,
      "grid_template_rows": null,
      "height": null,
      "justify_content": null,
      "justify_items": null,
      "left": null,
      "margin": null,
      "max_height": null,
      "max_width": null,
      "min_height": null,
      "min_width": null,
      "object_fit": null,
      "object_position": null,
      "order": null,
      "overflow": null,
      "overflow_x": null,
      "overflow_y": null,
      "padding": null,
      "right": null,
      "top": null,
      "visibility": null,
      "width": null
     }
    },
    "139339eee91d4f5298a8561a69eb9720": {
     "model_module": "@jupyter-widgets/controls",
     "model_module_version": "1.5.0",
     "model_name": "HBoxModel",
     "state": {
      "_dom_classes": [],
      "_model_module": "@jupyter-widgets/controls",
      "_model_module_version": "1.5.0",
      "_model_name": "HBoxModel",
      "_view_count": null,
      "_view_module": "@jupyter-widgets/controls",
      "_view_module_version": "1.5.0",
      "_view_name": "HBoxView",
      "box_style": "",
      "children": [
       "IPY_MODEL_93a58b49a316428aa64bd27f6d7c8a16",
       "IPY_MODEL_ad91c165145d44a5b29d016dc5dd30ce",
       "IPY_MODEL_3b69ac14e32f44f781560bd2013ee204"
      ],
      "layout": "IPY_MODEL_8254971eb30f424d96bc6f3b6fca6647"
     }
    },
    "1724a36f11764972b7583a3871d0c4d7": {
     "model_module": "@jupyter-widgets/base",
     "model_module_version": "1.2.0",
     "model_name": "LayoutModel",
     "state": {
      "_model_module": "@jupyter-widgets/base",
      "_model_module_version": "1.2.0",
      "_model_name": "LayoutModel",
      "_view_count": null,
      "_view_module": "@jupyter-widgets/base",
      "_view_module_version": "1.2.0",
      "_view_name": "LayoutView",
      "align_content": null,
      "align_items": null,
      "align_self": null,
      "border": null,
      "bottom": null,
      "display": null,
      "flex": null,
      "flex_flow": null,
      "grid_area": null,
      "grid_auto_columns": null,
      "grid_auto_flow": null,
      "grid_auto_rows": null,
      "grid_column": null,
      "grid_gap": null,
      "grid_row": null,
      "grid_template_areas": null,
      "grid_template_columns": null,
      "grid_template_rows": null,
      "height": null,
      "justify_content": null,
      "justify_items": null,
      "left": null,
      "margin": null,
      "max_height": null,
      "max_width": null,
      "min_height": null,
      "min_width": null,
      "object_fit": null,
      "object_position": null,
      "order": null,
      "overflow": null,
      "overflow_x": null,
      "overflow_y": null,
      "padding": null,
      "right": null,
      "top": null,
      "visibility": null,
      "width": null
     }
    },
    "265a84c2bb984319980cdb602e6e8e42": {
     "model_module": "@jupyter-widgets/base",
     "model_module_version": "1.2.0",
     "model_name": "LayoutModel",
     "state": {
      "_model_module": "@jupyter-widgets/base",
      "_model_module_version": "1.2.0",
      "_model_name": "LayoutModel",
      "_view_count": null,
      "_view_module": "@jupyter-widgets/base",
      "_view_module_version": "1.2.0",
      "_view_name": "LayoutView",
      "align_content": null,
      "align_items": null,
      "align_self": null,
      "border": null,
      "bottom": null,
      "display": null,
      "flex": null,
      "flex_flow": null,
      "grid_area": null,
      "grid_auto_columns": null,
      "grid_auto_flow": null,
      "grid_auto_rows": null,
      "grid_column": null,
      "grid_gap": null,
      "grid_row": null,
      "grid_template_areas": null,
      "grid_template_columns": null,
      "grid_template_rows": null,
      "height": null,
      "justify_content": null,
      "justify_items": null,
      "left": null,
      "margin": null,
      "max_height": null,
      "max_width": null,
      "min_height": null,
      "min_width": null,
      "object_fit": null,
      "object_position": null,
      "order": null,
      "overflow": null,
      "overflow_x": null,
      "overflow_y": null,
      "padding": null,
      "right": null,
      "top": null,
      "visibility": null,
      "width": null
     }
    },
    "299f551abe754a839c8eb5e86b424d7a": {
     "model_module": "@jupyter-widgets/controls",
     "model_module_version": "1.5.0",
     "model_name": "DescriptionStyleModel",
     "state": {
      "_model_module": "@jupyter-widgets/controls",
      "_model_module_version": "1.5.0",
      "_model_name": "DescriptionStyleModel",
      "_view_count": null,
      "_view_module": "@jupyter-widgets/base",
      "_view_module_version": "1.2.0",
      "_view_name": "StyleView",
      "description_width": ""
     }
    },
    "30df75a3b39448ffb625c871c8dac695": {
     "model_module": "@jupyter-widgets/controls",
     "model_module_version": "1.5.0",
     "model_name": "ProgressStyleModel",
     "state": {
      "_model_module": "@jupyter-widgets/controls",
      "_model_module_version": "1.5.0",
      "_model_name": "ProgressStyleModel",
      "_view_count": null,
      "_view_module": "@jupyter-widgets/base",
      "_view_module_version": "1.2.0",
      "_view_name": "StyleView",
      "bar_color": null,
      "description_width": ""
     }
    },
    "3a1fe02a2d6a4ed89a8c5392541b2d1a": {
     "model_module": "@jupyter-widgets/controls",
     "model_module_version": "1.5.0",
     "model_name": "ProgressStyleModel",
     "state": {
      "_model_module": "@jupyter-widgets/controls",
      "_model_module_version": "1.5.0",
      "_model_name": "ProgressStyleModel",
      "_view_count": null,
      "_view_module": "@jupyter-widgets/base",
      "_view_module_version": "1.2.0",
      "_view_name": "StyleView",
      "bar_color": null,
      "description_width": ""
     }
    },
    "3b69ac14e32f44f781560bd2013ee204": {
     "model_module": "@jupyter-widgets/controls",
     "model_module_version": "1.5.0",
     "model_name": "HTMLModel",
     "state": {
      "_dom_classes": [],
      "_model_module": "@jupyter-widgets/controls",
      "_model_module_version": "1.5.0",
      "_model_name": "HTMLModel",
      "_view_count": null,
      "_view_module": "@jupyter-widgets/controls",
      "_view_module_version": "1.5.0",
      "_view_name": "HTMLView",
      "description": "",
      "description_tooltip": null,
      "layout": "IPY_MODEL_7310536392cb463cb55a7d6851de81d8",
      "placeholder": "​",
      "style": "IPY_MODEL_4a475c9e06894c31a85ada9a42040b97",
      "value": " 849/849 [00:41&lt;00:00, 18.47it/s]"
     }
    },
    "3ccb3f7a3d3a45b78cd10cef29f11ea9": {
     "model_module": "@jupyter-widgets/controls",
     "model_module_version": "1.5.0",
     "model_name": "HBoxModel",
     "state": {
      "_dom_classes": [],
      "_model_module": "@jupyter-widgets/controls",
      "_model_module_version": "1.5.0",
      "_model_name": "HBoxModel",
      "_view_count": null,
      "_view_module": "@jupyter-widgets/controls",
      "_view_module_version": "1.5.0",
      "_view_name": "HBoxView",
      "box_style": "",
      "children": [
       "IPY_MODEL_04d201e9088a4adca5dd7f198e9b5300",
       "IPY_MODEL_482a181b75b14bf1a18e370506d83698",
       "IPY_MODEL_d843c30ff18b4254a87dd46a3c5166c1"
      ],
      "layout": "IPY_MODEL_1724a36f11764972b7583a3871d0c4d7"
     }
    },
    "482a181b75b14bf1a18e370506d83698": {
     "model_module": "@jupyter-widgets/controls",
     "model_module_version": "1.5.0",
     "model_name": "FloatProgressModel",
     "state": {
      "_dom_classes": [],
      "_model_module": "@jupyter-widgets/controls",
      "_model_module_version": "1.5.0",
      "_model_name": "FloatProgressModel",
      "_view_count": null,
      "_view_module": "@jupyter-widgets/controls",
      "_view_module_version": "1.5.0",
      "_view_name": "ProgressView",
      "bar_style": "success",
      "description": "",
      "description_tooltip": null,
      "layout": "IPY_MODEL_70be37ac06fe4162881ba8d27ae685fe",
      "max": 2470,
      "min": 0,
      "orientation": "horizontal",
      "style": "IPY_MODEL_30df75a3b39448ffb625c871c8dac695",
      "value": 2470
     }
    },
    "4a475c9e06894c31a85ada9a42040b97": {
     "model_module": "@jupyter-widgets/controls",
     "model_module_version": "1.5.0",
     "model_name": "DescriptionStyleModel",
     "state": {
      "_model_module": "@jupyter-widgets/controls",
      "_model_module_version": "1.5.0",
      "_model_name": "DescriptionStyleModel",
      "_view_count": null,
      "_view_module": "@jupyter-widgets/base",
      "_view_module_version": "1.2.0",
      "_view_name": "StyleView",
      "description_width": ""
     }
    },
    "4a5ab0796ffc433d9b72b9ad0a058f98": {
     "model_module": "@jupyter-widgets/controls",
     "model_module_version": "1.5.0",
     "model_name": "DescriptionStyleModel",
     "state": {
      "_model_module": "@jupyter-widgets/controls",
      "_model_module_version": "1.5.0",
      "_model_name": "DescriptionStyleModel",
      "_view_count": null,
      "_view_module": "@jupyter-widgets/base",
      "_view_module_version": "1.2.0",
      "_view_name": "StyleView",
      "description_width": ""
     }
    },
    "4dedb99159a64a019bca718e80cd7f75": {
     "model_module": "@jupyter-widgets/controls",
     "model_module_version": "1.5.0",
     "model_name": "ProgressStyleModel",
     "state": {
      "_model_module": "@jupyter-widgets/controls",
      "_model_module_version": "1.5.0",
      "_model_name": "ProgressStyleModel",
      "_view_count": null,
      "_view_module": "@jupyter-widgets/base",
      "_view_module_version": "1.2.0",
      "_view_name": "StyleView",
      "bar_color": null,
      "description_width": ""
     }
    },
    "50e4ded19e7c44cb814990365459eb02": {
     "model_module": "@jupyter-widgets/controls",
     "model_module_version": "1.5.0",
     "model_name": "HBoxModel",
     "state": {
      "_dom_classes": [],
      "_model_module": "@jupyter-widgets/controls",
      "_model_module_version": "1.5.0",
      "_model_name": "HBoxModel",
      "_view_count": null,
      "_view_module": "@jupyter-widgets/controls",
      "_view_module_version": "1.5.0",
      "_view_name": "HBoxView",
      "box_style": "",
      "children": [
       "IPY_MODEL_de6762b5c45c4cea8ad20e3cc6ce8512",
       "IPY_MODEL_eeb43190108a45e3803ac68f66100c03",
       "IPY_MODEL_0993a5a3c01b48f1aa1258777cfed8a7"
      ],
      "layout": "IPY_MODEL_104a7371c1b946558d2412acc7c9677f"
     }
    },
    "52d008432a5945edbe17b39bcbb219c0": {
     "model_module": "@jupyter-widgets/controls",
     "model_module_version": "1.5.0",
     "model_name": "DescriptionStyleModel",
     "state": {
      "_model_module": "@jupyter-widgets/controls",
      "_model_module_version": "1.5.0",
      "_model_name": "DescriptionStyleModel",
      "_view_count": null,
      "_view_module": "@jupyter-widgets/base",
      "_view_module_version": "1.2.0",
      "_view_name": "StyleView",
      "description_width": ""
     }
    },
    "60dab02084e543188374509032859bcc": {
     "model_module": "@jupyter-widgets/controls",
     "model_module_version": "1.5.0",
     "model_name": "HTMLModel",
     "state": {
      "_dom_classes": [],
      "_model_module": "@jupyter-widgets/controls",
      "_model_module_version": "1.5.0",
      "_model_name": "HTMLModel",
      "_view_count": null,
      "_view_module": "@jupyter-widgets/controls",
      "_view_module_version": "1.5.0",
      "_view_name": "HTMLView",
      "description": "",
      "description_tooltip": null,
      "layout": "IPY_MODEL_a2f31b03a13b4013bd2125bf4ed33ea1",
      "placeholder": "​",
      "style": "IPY_MODEL_52d008432a5945edbe17b39bcbb219c0",
      "value": "100%"
     }
    },
    "6260c6a9cbba48a699cb7fe18e16bd46": {
     "model_module": "@jupyter-widgets/base",
     "model_module_version": "1.2.0",
     "model_name": "LayoutModel",
     "state": {
      "_model_module": "@jupyter-widgets/base",
      "_model_module_version": "1.2.0",
      "_model_name": "LayoutModel",
      "_view_count": null,
      "_view_module": "@jupyter-widgets/base",
      "_view_module_version": "1.2.0",
      "_view_name": "LayoutView",
      "align_content": null,
      "align_items": null,
      "align_self": null,
      "border": null,
      "bottom": null,
      "display": null,
      "flex": null,
      "flex_flow": null,
      "grid_area": null,
      "grid_auto_columns": null,
      "grid_auto_flow": null,
      "grid_auto_rows": null,
      "grid_column": null,
      "grid_gap": null,
      "grid_row": null,
      "grid_template_areas": null,
      "grid_template_columns": null,
      "grid_template_rows": null,
      "height": null,
      "justify_content": null,
      "justify_items": null,
      "left": null,
      "margin": null,
      "max_height": null,
      "max_width": null,
      "min_height": null,
      "min_width": null,
      "object_fit": null,
      "object_position": null,
      "order": null,
      "overflow": null,
      "overflow_x": null,
      "overflow_y": null,
      "padding": null,
      "right": null,
      "top": null,
      "visibility": null,
      "width": null
     }
    },
    "6669cf7cd6794c749ca1f3630faaf385": {
     "model_module": "@jupyter-widgets/controls",
     "model_module_version": "1.5.0",
     "model_name": "HBoxModel",
     "state": {
      "_dom_classes": [],
      "_model_module": "@jupyter-widgets/controls",
      "_model_module_version": "1.5.0",
      "_model_name": "HBoxModel",
      "_view_count": null,
      "_view_module": "@jupyter-widgets/controls",
      "_view_module_version": "1.5.0",
      "_view_name": "HBoxView",
      "box_style": "",
      "children": [
       "IPY_MODEL_60dab02084e543188374509032859bcc",
       "IPY_MODEL_ee0578194e5e42dd9d52fd0a46a744ce",
       "IPY_MODEL_dcdda6ece56e4364bc7bc809fc9cb91a"
      ],
      "layout": "IPY_MODEL_6260c6a9cbba48a699cb7fe18e16bd46"
     }
    },
    "70be37ac06fe4162881ba8d27ae685fe": {
     "model_module": "@jupyter-widgets/base",
     "model_module_version": "1.2.0",
     "model_name": "LayoutModel",
     "state": {
      "_model_module": "@jupyter-widgets/base",
      "_model_module_version": "1.2.0",
      "_model_name": "LayoutModel",
      "_view_count": null,
      "_view_module": "@jupyter-widgets/base",
      "_view_module_version": "1.2.0",
      "_view_name": "LayoutView",
      "align_content": null,
      "align_items": null,
      "align_self": null,
      "border": null,
      "bottom": null,
      "display": null,
      "flex": null,
      "flex_flow": null,
      "grid_area": null,
      "grid_auto_columns": null,
      "grid_auto_flow": null,
      "grid_auto_rows": null,
      "grid_column": null,
      "grid_gap": null,
      "grid_row": null,
      "grid_template_areas": null,
      "grid_template_columns": null,
      "grid_template_rows": null,
      "height": null,
      "justify_content": null,
      "justify_items": null,
      "left": null,
      "margin": null,
      "max_height": null,
      "max_width": null,
      "min_height": null,
      "min_width": null,
      "object_fit": null,
      "object_position": null,
      "order": null,
      "overflow": null,
      "overflow_x": null,
      "overflow_y": null,
      "padding": null,
      "right": null,
      "top": null,
      "visibility": null,
      "width": null
     }
    },
    "723485da796c48b3be414a4c35c063e1": {
     "model_module": "@jupyter-widgets/controls",
     "model_module_version": "1.5.0",
     "model_name": "ProgressStyleModel",
     "state": {
      "_model_module": "@jupyter-widgets/controls",
      "_model_module_version": "1.5.0",
      "_model_name": "ProgressStyleModel",
      "_view_count": null,
      "_view_module": "@jupyter-widgets/base",
      "_view_module_version": "1.2.0",
      "_view_name": "StyleView",
      "bar_color": null,
      "description_width": ""
     }
    },
    "728b73ddd16d42e8b0e091620540b434": {
     "model_module": "@jupyter-widgets/base",
     "model_module_version": "1.2.0",
     "model_name": "LayoutModel",
     "state": {
      "_model_module": "@jupyter-widgets/base",
      "_model_module_version": "1.2.0",
      "_model_name": "LayoutModel",
      "_view_count": null,
      "_view_module": "@jupyter-widgets/base",
      "_view_module_version": "1.2.0",
      "_view_name": "LayoutView",
      "align_content": null,
      "align_items": null,
      "align_self": null,
      "border": null,
      "bottom": null,
      "display": null,
      "flex": null,
      "flex_flow": null,
      "grid_area": null,
      "grid_auto_columns": null,
      "grid_auto_flow": null,
      "grid_auto_rows": null,
      "grid_column": null,
      "grid_gap": null,
      "grid_row": null,
      "grid_template_areas": null,
      "grid_template_columns": null,
      "grid_template_rows": null,
      "height": null,
      "justify_content": null,
      "justify_items": null,
      "left": null,
      "margin": null,
      "max_height": null,
      "max_width": null,
      "min_height": null,
      "min_width": null,
      "object_fit": null,
      "object_position": null,
      "order": null,
      "overflow": null,
      "overflow_x": null,
      "overflow_y": null,
      "padding": null,
      "right": null,
      "top": null,
      "visibility": null,
      "width": null
     }
    },
    "7310536392cb463cb55a7d6851de81d8": {
     "model_module": "@jupyter-widgets/base",
     "model_module_version": "1.2.0",
     "model_name": "LayoutModel",
     "state": {
      "_model_module": "@jupyter-widgets/base",
      "_model_module_version": "1.2.0",
      "_model_name": "LayoutModel",
      "_view_count": null,
      "_view_module": "@jupyter-widgets/base",
      "_view_module_version": "1.2.0",
      "_view_name": "LayoutView",
      "align_content": null,
      "align_items": null,
      "align_self": null,
      "border": null,
      "bottom": null,
      "display": null,
      "flex": null,
      "flex_flow": null,
      "grid_area": null,
      "grid_auto_columns": null,
      "grid_auto_flow": null,
      "grid_auto_rows": null,
      "grid_column": null,
      "grid_gap": null,
      "grid_row": null,
      "grid_template_areas": null,
      "grid_template_columns": null,
      "grid_template_rows": null,
      "height": null,
      "justify_content": null,
      "justify_items": null,
      "left": null,
      "margin": null,
      "max_height": null,
      "max_width": null,
      "min_height": null,
      "min_width": null,
      "object_fit": null,
      "object_position": null,
      "order": null,
      "overflow": null,
      "overflow_x": null,
      "overflow_y": null,
      "padding": null,
      "right": null,
      "top": null,
      "visibility": null,
      "width": null
     }
    },
    "80d10899944546a9a264207e800ce10d": {
     "model_module": "@jupyter-widgets/controls",
     "model_module_version": "1.5.0",
     "model_name": "DescriptionStyleModel",
     "state": {
      "_model_module": "@jupyter-widgets/controls",
      "_model_module_version": "1.5.0",
      "_model_name": "DescriptionStyleModel",
      "_view_count": null,
      "_view_module": "@jupyter-widgets/base",
      "_view_module_version": "1.2.0",
      "_view_name": "StyleView",
      "description_width": ""
     }
    },
    "8254971eb30f424d96bc6f3b6fca6647": {
     "model_module": "@jupyter-widgets/base",
     "model_module_version": "1.2.0",
     "model_name": "LayoutModel",
     "state": {
      "_model_module": "@jupyter-widgets/base",
      "_model_module_version": "1.2.0",
      "_model_name": "LayoutModel",
      "_view_count": null,
      "_view_module": "@jupyter-widgets/base",
      "_view_module_version": "1.2.0",
      "_view_name": "LayoutView",
      "align_content": null,
      "align_items": null,
      "align_self": null,
      "border": null,
      "bottom": null,
      "display": null,
      "flex": null,
      "flex_flow": null,
      "grid_area": null,
      "grid_auto_columns": null,
      "grid_auto_flow": null,
      "grid_auto_rows": null,
      "grid_column": null,
      "grid_gap": null,
      "grid_row": null,
      "grid_template_areas": null,
      "grid_template_columns": null,
      "grid_template_rows": null,
      "height": null,
      "justify_content": null,
      "justify_items": null,
      "left": null,
      "margin": null,
      "max_height": null,
      "max_width": null,
      "min_height": null,
      "min_width": null,
      "object_fit": null,
      "object_position": null,
      "order": null,
      "overflow": null,
      "overflow_x": null,
      "overflow_y": null,
      "padding": null,
      "right": null,
      "top": null,
      "visibility": null,
      "width": null
     }
    },
    "82ad733608b445b48e6d62f6071f7c19": {
     "model_module": "@jupyter-widgets/base",
     "model_module_version": "1.2.0",
     "model_name": "LayoutModel",
     "state": {
      "_model_module": "@jupyter-widgets/base",
      "_model_module_version": "1.2.0",
      "_model_name": "LayoutModel",
      "_view_count": null,
      "_view_module": "@jupyter-widgets/base",
      "_view_module_version": "1.2.0",
      "_view_name": "LayoutView",
      "align_content": null,
      "align_items": null,
      "align_self": null,
      "border": null,
      "bottom": null,
      "display": null,
      "flex": null,
      "flex_flow": null,
      "grid_area": null,
      "grid_auto_columns": null,
      "grid_auto_flow": null,
      "grid_auto_rows": null,
      "grid_column": null,
      "grid_gap": null,
      "grid_row": null,
      "grid_template_areas": null,
      "grid_template_columns": null,
      "grid_template_rows": null,
      "height": null,
      "justify_content": null,
      "justify_items": null,
      "left": null,
      "margin": null,
      "max_height": null,
      "max_width": null,
      "min_height": null,
      "min_width": null,
      "object_fit": null,
      "object_position": null,
      "order": null,
      "overflow": null,
      "overflow_x": null,
      "overflow_y": null,
      "padding": null,
      "right": null,
      "top": null,
      "visibility": null,
      "width": null
     }
    },
    "888cf795b16e43ac839a9b183a250b83": {
     "model_module": "@jupyter-widgets/base",
     "model_module_version": "1.2.0",
     "model_name": "LayoutModel",
     "state": {
      "_model_module": "@jupyter-widgets/base",
      "_model_module_version": "1.2.0",
      "_model_name": "LayoutModel",
      "_view_count": null,
      "_view_module": "@jupyter-widgets/base",
      "_view_module_version": "1.2.0",
      "_view_name": "LayoutView",
      "align_content": null,
      "align_items": null,
      "align_self": null,
      "border": null,
      "bottom": null,
      "display": null,
      "flex": null,
      "flex_flow": null,
      "grid_area": null,
      "grid_auto_columns": null,
      "grid_auto_flow": null,
      "grid_auto_rows": null,
      "grid_column": null,
      "grid_gap": null,
      "grid_row": null,
      "grid_template_areas": null,
      "grid_template_columns": null,
      "grid_template_rows": null,
      "height": null,
      "justify_content": null,
      "justify_items": null,
      "left": null,
      "margin": null,
      "max_height": null,
      "max_width": null,
      "min_height": null,
      "min_width": null,
      "object_fit": null,
      "object_position": null,
      "order": null,
      "overflow": null,
      "overflow_x": null,
      "overflow_y": null,
      "padding": null,
      "right": null,
      "top": null,
      "visibility": null,
      "width": null
     }
    },
    "93a58b49a316428aa64bd27f6d7c8a16": {
     "model_module": "@jupyter-widgets/controls",
     "model_module_version": "1.5.0",
     "model_name": "HTMLModel",
     "state": {
      "_dom_classes": [],
      "_model_module": "@jupyter-widgets/controls",
      "_model_module_version": "1.5.0",
      "_model_name": "HTMLModel",
      "_view_count": null,
      "_view_module": "@jupyter-widgets/controls",
      "_view_module_version": "1.5.0",
      "_view_name": "HTMLView",
      "description": "",
      "description_tooltip": null,
      "layout": "IPY_MODEL_d35553fec0414d6a9a3c48752d052374",
      "placeholder": "​",
      "style": "IPY_MODEL_038c83e27a1d405fb8561d7f761e46b6",
      "value": "100%"
     }
    },
    "a2f31b03a13b4013bd2125bf4ed33ea1": {
     "model_module": "@jupyter-widgets/base",
     "model_module_version": "1.2.0",
     "model_name": "LayoutModel",
     "state": {
      "_model_module": "@jupyter-widgets/base",
      "_model_module_version": "1.2.0",
      "_model_name": "LayoutModel",
      "_view_count": null,
      "_view_module": "@jupyter-widgets/base",
      "_view_module_version": "1.2.0",
      "_view_name": "LayoutView",
      "align_content": null,
      "align_items": null,
      "align_self": null,
      "border": null,
      "bottom": null,
      "display": null,
      "flex": null,
      "flex_flow": null,
      "grid_area": null,
      "grid_auto_columns": null,
      "grid_auto_flow": null,
      "grid_auto_rows": null,
      "grid_column": null,
      "grid_gap": null,
      "grid_row": null,
      "grid_template_areas": null,
      "grid_template_columns": null,
      "grid_template_rows": null,
      "height": null,
      "justify_content": null,
      "justify_items": null,
      "left": null,
      "margin": null,
      "max_height": null,
      "max_width": null,
      "min_height": null,
      "min_width": null,
      "object_fit": null,
      "object_position": null,
      "order": null,
      "overflow": null,
      "overflow_x": null,
      "overflow_y": null,
      "padding": null,
      "right": null,
      "top": null,
      "visibility": null,
      "width": null
     }
    },
    "a606f43ad5d64dfc8271c2671e3827e4": {
     "model_module": "@jupyter-widgets/controls",
     "model_module_version": "1.5.0",
     "model_name": "DescriptionStyleModel",
     "state": {
      "_model_module": "@jupyter-widgets/controls",
      "_model_module_version": "1.5.0",
      "_model_name": "DescriptionStyleModel",
      "_view_count": null,
      "_view_module": "@jupyter-widgets/base",
      "_view_module_version": "1.2.0",
      "_view_name": "StyleView",
      "description_width": ""
     }
    },
    "ad91c165145d44a5b29d016dc5dd30ce": {
     "model_module": "@jupyter-widgets/controls",
     "model_module_version": "1.5.0",
     "model_name": "FloatProgressModel",
     "state": {
      "_dom_classes": [],
      "_model_module": "@jupyter-widgets/controls",
      "_model_module_version": "1.5.0",
      "_model_name": "FloatProgressModel",
      "_view_count": null,
      "_view_module": "@jupyter-widgets/controls",
      "_view_module_version": "1.5.0",
      "_view_name": "ProgressView",
      "bar_style": "success",
      "description": "",
      "description_tooltip": null,
      "layout": "IPY_MODEL_ebda2d8545b04d48a552abb81fc820cd",
      "max": 849,
      "min": 0,
      "orientation": "horizontal",
      "style": "IPY_MODEL_3a1fe02a2d6a4ed89a8c5392541b2d1a",
      "value": 849
     }
    },
    "d35553fec0414d6a9a3c48752d052374": {
     "model_module": "@jupyter-widgets/base",
     "model_module_version": "1.2.0",
     "model_name": "LayoutModel",
     "state": {
      "_model_module": "@jupyter-widgets/base",
      "_model_module_version": "1.2.0",
      "_model_name": "LayoutModel",
      "_view_count": null,
      "_view_module": "@jupyter-widgets/base",
      "_view_module_version": "1.2.0",
      "_view_name": "LayoutView",
      "align_content": null,
      "align_items": null,
      "align_self": null,
      "border": null,
      "bottom": null,
      "display": null,
      "flex": null,
      "flex_flow": null,
      "grid_area": null,
      "grid_auto_columns": null,
      "grid_auto_flow": null,
      "grid_auto_rows": null,
      "grid_column": null,
      "grid_gap": null,
      "grid_row": null,
      "grid_template_areas": null,
      "grid_template_columns": null,
      "grid_template_rows": null,
      "height": null,
      "justify_content": null,
      "justify_items": null,
      "left": null,
      "margin": null,
      "max_height": null,
      "max_width": null,
      "min_height": null,
      "min_width": null,
      "object_fit": null,
      "object_position": null,
      "order": null,
      "overflow": null,
      "overflow_x": null,
      "overflow_y": null,
      "padding": null,
      "right": null,
      "top": null,
      "visibility": null,
      "width": null
     }
    },
    "d843c30ff18b4254a87dd46a3c5166c1": {
     "model_module": "@jupyter-widgets/controls",
     "model_module_version": "1.5.0",
     "model_name": "HTMLModel",
     "state": {
      "_dom_classes": [],
      "_model_module": "@jupyter-widgets/controls",
      "_model_module_version": "1.5.0",
      "_model_name": "HTMLModel",
      "_view_count": null,
      "_view_module": "@jupyter-widgets/controls",
      "_view_module_version": "1.5.0",
      "_view_name": "HTMLView",
      "description": "",
      "description_tooltip": null,
      "layout": "IPY_MODEL_888cf795b16e43ac839a9b183a250b83",
      "placeholder": "​",
      "style": "IPY_MODEL_ee5e905e601f4df8997338f3bb5f7468",
      "value": " 2470/2470 [02:20&lt;00:00, 18.13it/s]"
     }
    },
    "dcdda6ece56e4364bc7bc809fc9cb91a": {
     "model_module": "@jupyter-widgets/controls",
     "model_module_version": "1.5.0",
     "model_name": "HTMLModel",
     "state": {
      "_dom_classes": [],
      "_model_module": "@jupyter-widgets/controls",
      "_model_module_version": "1.5.0",
      "_model_name": "HTMLModel",
      "_view_count": null,
      "_view_module": "@jupyter-widgets/controls",
      "_view_module_version": "1.5.0",
      "_view_name": "HTMLView",
      "description": "",
      "description_tooltip": null,
      "layout": "IPY_MODEL_f295998c546b4f8ca2add492b24bd553",
      "placeholder": "​",
      "style": "IPY_MODEL_4a5ab0796ffc433d9b72b9ad0a058f98",
      "value": " 60000/60000 [30:54&lt;00:00, 28.17it/s]"
     }
    },
    "de6762b5c45c4cea8ad20e3cc6ce8512": {
     "model_module": "@jupyter-widgets/controls",
     "model_module_version": "1.5.0",
     "model_name": "HTMLModel",
     "state": {
      "_dom_classes": [],
      "_model_module": "@jupyter-widgets/controls",
      "_model_module_version": "1.5.0",
      "_model_name": "HTMLModel",
      "_view_count": null,
      "_view_module": "@jupyter-widgets/controls",
      "_view_module_version": "1.5.0",
      "_view_name": "HTMLView",
      "description": "",
      "description_tooltip": null,
      "layout": "IPY_MODEL_82ad733608b445b48e6d62f6071f7c19",
      "placeholder": "​",
      "style": "IPY_MODEL_80d10899944546a9a264207e800ce10d",
      "value": "100%"
     }
    },
    "e1eb0c968e2e45ebaba668316769234f": {
     "model_module": "@jupyter-widgets/base",
     "model_module_version": "1.2.0",
     "model_name": "LayoutModel",
     "state": {
      "_model_module": "@jupyter-widgets/base",
      "_model_module_version": "1.2.0",
      "_model_name": "LayoutModel",
      "_view_count": null,
      "_view_module": "@jupyter-widgets/base",
      "_view_module_version": "1.2.0",
      "_view_name": "LayoutView",
      "align_content": null,
      "align_items": null,
      "align_self": null,
      "border": null,
      "bottom": null,
      "display": null,
      "flex": null,
      "flex_flow": null,
      "grid_area": null,
      "grid_auto_columns": null,
      "grid_auto_flow": null,
      "grid_auto_rows": null,
      "grid_column": null,
      "grid_gap": null,
      "grid_row": null,
      "grid_template_areas": null,
      "grid_template_columns": null,
      "grid_template_rows": null,
      "height": null,
      "justify_content": null,
      "justify_items": null,
      "left": null,
      "margin": null,
      "max_height": null,
      "max_width": null,
      "min_height": null,
      "min_width": null,
      "object_fit": null,
      "object_position": null,
      "order": null,
      "overflow": null,
      "overflow_x": null,
      "overflow_y": null,
      "padding": null,
      "right": null,
      "top": null,
      "visibility": null,
      "width": null
     }
    },
    "e7a6b389ae0a4a0c930d5755fcda4fde": {
     "model_module": "@jupyter-widgets/base",
     "model_module_version": "1.2.0",
     "model_name": "LayoutModel",
     "state": {
      "_model_module": "@jupyter-widgets/base",
      "_model_module_version": "1.2.0",
      "_model_name": "LayoutModel",
      "_view_count": null,
      "_view_module": "@jupyter-widgets/base",
      "_view_module_version": "1.2.0",
      "_view_name": "LayoutView",
      "align_content": null,
      "align_items": null,
      "align_self": null,
      "border": null,
      "bottom": null,
      "display": null,
      "flex": null,
      "flex_flow": null,
      "grid_area": null,
      "grid_auto_columns": null,
      "grid_auto_flow": null,
      "grid_auto_rows": null,
      "grid_column": null,
      "grid_gap": null,
      "grid_row": null,
      "grid_template_areas": null,
      "grid_template_columns": null,
      "grid_template_rows": null,
      "height": null,
      "justify_content": null,
      "justify_items": null,
      "left": null,
      "margin": null,
      "max_height": null,
      "max_width": null,
      "min_height": null,
      "min_width": null,
      "object_fit": null,
      "object_position": null,
      "order": null,
      "overflow": null,
      "overflow_x": null,
      "overflow_y": null,
      "padding": null,
      "right": null,
      "top": null,
      "visibility": null,
      "width": null
     }
    },
    "ebda2d8545b04d48a552abb81fc820cd": {
     "model_module": "@jupyter-widgets/base",
     "model_module_version": "1.2.0",
     "model_name": "LayoutModel",
     "state": {
      "_model_module": "@jupyter-widgets/base",
      "_model_module_version": "1.2.0",
      "_model_name": "LayoutModel",
      "_view_count": null,
      "_view_module": "@jupyter-widgets/base",
      "_view_module_version": "1.2.0",
      "_view_name": "LayoutView",
      "align_content": null,
      "align_items": null,
      "align_self": null,
      "border": null,
      "bottom": null,
      "display": null,
      "flex": null,
      "flex_flow": null,
      "grid_area": null,
      "grid_auto_columns": null,
      "grid_auto_flow": null,
      "grid_auto_rows": null,
      "grid_column": null,
      "grid_gap": null,
      "grid_row": null,
      "grid_template_areas": null,
      "grid_template_columns": null,
      "grid_template_rows": null,
      "height": null,
      "justify_content": null,
      "justify_items": null,
      "left": null,
      "margin": null,
      "max_height": null,
      "max_width": null,
      "min_height": null,
      "min_width": null,
      "object_fit": null,
      "object_position": null,
      "order": null,
      "overflow": null,
      "overflow_x": null,
      "overflow_y": null,
      "padding": null,
      "right": null,
      "top": null,
      "visibility": null,
      "width": null
     }
    },
    "ee0578194e5e42dd9d52fd0a46a744ce": {
     "model_module": "@jupyter-widgets/controls",
     "model_module_version": "1.5.0",
     "model_name": "FloatProgressModel",
     "state": {
      "_dom_classes": [],
      "_model_module": "@jupyter-widgets/controls",
      "_model_module_version": "1.5.0",
      "_model_name": "FloatProgressModel",
      "_view_count": null,
      "_view_module": "@jupyter-widgets/controls",
      "_view_module_version": "1.5.0",
      "_view_name": "ProgressView",
      "bar_style": "success",
      "description": "",
      "description_tooltip": null,
      "layout": "IPY_MODEL_e7a6b389ae0a4a0c930d5755fcda4fde",
      "max": 60000,
      "min": 0,
      "orientation": "horizontal",
      "style": "IPY_MODEL_4dedb99159a64a019bca718e80cd7f75",
      "value": 60000
     }
    },
    "ee5e905e601f4df8997338f3bb5f7468": {
     "model_module": "@jupyter-widgets/controls",
     "model_module_version": "1.5.0",
     "model_name": "DescriptionStyleModel",
     "state": {
      "_model_module": "@jupyter-widgets/controls",
      "_model_module_version": "1.5.0",
      "_model_name": "DescriptionStyleModel",
      "_view_count": null,
      "_view_module": "@jupyter-widgets/base",
      "_view_module_version": "1.2.0",
      "_view_name": "StyleView",
      "description_width": ""
     }
    },
    "eeb43190108a45e3803ac68f66100c03": {
     "model_module": "@jupyter-widgets/controls",
     "model_module_version": "1.5.0",
     "model_name": "FloatProgressModel",
     "state": {
      "_dom_classes": [],
      "_model_module": "@jupyter-widgets/controls",
      "_model_module_version": "1.5.0",
      "_model_name": "FloatProgressModel",
      "_view_count": null,
      "_view_module": "@jupyter-widgets/controls",
      "_view_module_version": "1.5.0",
      "_view_name": "ProgressView",
      "bar_style": "success",
      "description": "",
      "description_tooltip": null,
      "layout": "IPY_MODEL_e1eb0c968e2e45ebaba668316769234f",
      "max": 10000,
      "min": 0,
      "orientation": "horizontal",
      "style": "IPY_MODEL_723485da796c48b3be414a4c35c063e1",
      "value": 10000
     }
    },
    "f295998c546b4f8ca2add492b24bd553": {
     "model_module": "@jupyter-widgets/base",
     "model_module_version": "1.2.0",
     "model_name": "LayoutModel",
     "state": {
      "_model_module": "@jupyter-widgets/base",
      "_model_module_version": "1.2.0",
      "_model_name": "LayoutModel",
      "_view_count": null,
      "_view_module": "@jupyter-widgets/base",
      "_view_module_version": "1.2.0",
      "_view_name": "LayoutView",
      "align_content": null,
      "align_items": null,
      "align_self": null,
      "border": null,
      "bottom": null,
      "display": null,
      "flex": null,
      "flex_flow": null,
      "grid_area": null,
      "grid_auto_columns": null,
      "grid_auto_flow": null,
      "grid_auto_rows": null,
      "grid_column": null,
      "grid_gap": null,
      "grid_row": null,
      "grid_template_areas": null,
      "grid_template_columns": null,
      "grid_template_rows": null,
      "height": null,
      "justify_content": null,
      "justify_items": null,
      "left": null,
      "margin": null,
      "max_height": null,
      "max_width": null,
      "min_height": null,
      "min_width": null,
      "object_fit": null,
      "object_position": null,
      "order": null,
      "overflow": null,
      "overflow_x": null,
      "overflow_y": null,
      "padding": null,
      "right": null,
      "top": null,
      "visibility": null,
      "width": null
     }
    }
   }
  }
 },
 "nbformat": 4,
 "nbformat_minor": 1
}
